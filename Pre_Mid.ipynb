{
  "cells": [
    {
      "cell_type": "markdown",
      "metadata": {
        "id": "view-in-github",
        "colab_type": "text"
      },
      "source": [
        "<a href=\"https://colab.research.google.com/github/Shridhar2602/RecSys/blob/main/Pre_Mid.ipynb\" target=\"_parent\"><img src=\"https://colab.research.google.com/assets/colab-badge.svg\" alt=\"Open In Colab\"/></a>"
      ]
    },
    {
      "cell_type": "code",
      "source": [
        "from google.colab import drive\n",
        "\n",
        "drive.mount('/content/gdrive')"
      ],
      "metadata": {
        "colab": {
          "base_uri": "https://localhost:8080/"
        },
        "id": "xEh2STklRsiY",
        "outputId": "c4d7fdc5-6ca0-4486-c48b-a366b897b94a"
      },
      "execution_count": null,
      "outputs": [
        {
          "output_type": "stream",
          "name": "stdout",
          "text": [
            "Mounted at /content/gdrive\n"
          ]
        }
      ]
    },
    {
      "cell_type": "markdown",
      "metadata": {
        "id": "qUDRyhsQRjoM"
      },
      "source": [
        "### Imports"
      ]
    },
    {
      "cell_type": "code",
      "execution_count": null,
      "metadata": {
        "id": "ySDaaIL-RjoP"
      },
      "outputs": [],
      "source": [
        "import pandas as pd\n",
        "import numpy as np\n",
        "from sklearn.cluster import KMeans\n",
        "import matplotlib.pyplot as plt\n",
        "from sklearn.preprocessing import StandardScaler\n",
        "import math"
      ]
    },
    {
      "cell_type": "markdown",
      "metadata": {
        "id": "T17kS7rBRjoR"
      },
      "source": [
        "### Read Data and tweaks"
      ]
    },
    {
      "cell_type": "code",
      "execution_count": null,
      "metadata": {
        "colab": {
          "base_uri": "https://localhost:8080/"
        },
        "id": "71wZ0BZiRjoR",
        "outputId": "bec7971e-b306-4e2b-d12e-1ab8f4efb602"
      },
      "outputs": [
        {
          "output_type": "execute_result",
          "data": {
            "text/plain": [
              "128"
            ]
          },
          "metadata": {},
          "execution_count": 54
        }
      ],
      "source": [
        "DF = pd.read_excel('/content/gdrive/MyDrive/RS/Course Recommendation System(1-128).xlsx')\n",
        "DF.drop(DF.iloc[:, 0:6], axis=1, inplace=True) # Delete unnecessary columns\n",
        "# DF.drop_duplicates(keep=False, inplace=True) # Remove duplicate rows\n",
        "len(DF)"
      ]
    },
    {
      "cell_type": "code",
      "execution_count": null,
      "metadata": {
        "colab": {
          "base_uri": "https://localhost:8080/",
          "height": 386
        },
        "id": "39eF_O7IRjoT",
        "outputId": "1daf3184-07fb-401d-fb4f-eeab7146552a"
      },
      "outputs": [
        {
          "output_type": "execute_result",
          "data": {
            "text/plain": [
              "   Data Structures and Algorithms  Computer Architecture\\n  \\\n",
              "0                            0.30                     0.85   \n",
              "1                            0.70                     0.80   \n",
              "2                            0.70                     0.00   \n",
              "3                            0.65                     0.70   \n",
              "4                            0.70                     0.60   \n",
              "\n",
              "   Discrete Mathematics\\n  Economics  Programming-2  Machine Learning\\n  \\\n",
              "0                    0.85       0.90           0.70                0.70   \n",
              "1                    0.20       0.80           0.80                0.50   \n",
              "2                    1.00       1.00           1.00                1.00   \n",
              "3                    0.20       0.75           0.75                0.75   \n",
              "4                    0.20       0.00           0.80                0.50   \n",
              "\n",
              "   Mathematics For Machine Learning\\n  Visual Recognition\\n  \\\n",
              "0                                0.80                   NaN   \n",
              "1                                0.10                  0.20   \n",
              "2                                1.00                  0.80   \n",
              "3                                0.75                  0.75   \n",
              "4                                0.60                  0.40   \n",
              "\n",
              "   Natural Language Processing\\n  Reinforcement Learning  ...  \\\n",
              "0                            NaN                     NaN  ...   \n",
              "1                            NaN                     NaN  ...   \n",
              "2                            0.9                     1.0  ...   \n",
              "3                            NaN                     NaN  ...   \n",
              "4                            0.4                     0.2  ...   \n",
              "\n",
              "   Digital CMOS VLSI Design   System design with FPGA   ASIC design   \\\n",
              "0                        NaN                       NaN           NaN   \n",
              "1                        NaN                       NaN           NaN   \n",
              "2                        NaN                       NaN           NaN   \n",
              "3                        NaN                       NaN           NaN   \n",
              "4                        0.0                       0.0           0.0   \n",
              "\n",
              "   VLSI Architecture Design\\n  \\\n",
              "0                         NaN   \n",
              "1                         NaN   \n",
              "2                         NaN   \n",
              "3                         NaN   \n",
              "4                         0.0   \n",
              "\n",
              "   High level synthesis and optimization of Digital Circuits   \\\n",
              "0                                                NaN            \n",
              "1                                                NaN            \n",
              "2                                                NaN            \n",
              "3                                                NaN            \n",
              "4                                                0.0            \n",
              "\n",
              "   Digital Sociology   Privacy in the Digital Age  Technology Ethics and AI   \\\n",
              "0                 NaN                         0.6                        NaN   \n",
              "1                 NaN                         0.5                        NaN   \n",
              "2                 NaN                         0.4                        NaN   \n",
              "3                 0.8                         NaN                        NaN   \n",
              "4                 0.0                         0.0                        0.0   \n",
              "\n",
              "   Techno-economics of networks   The Web and the Mind   \n",
              "0                            NaN                    NaN  \n",
              "1                            NaN                    NaN  \n",
              "2                            NaN                    NaN  \n",
              "3                            0.8                    NaN  \n",
              "4                            0.0                    0.0  \n",
              "\n",
              "[5 rows x 25 columns]"
            ],
            "text/html": [
              "\n",
              "  <div id=\"df-cf74e8c9-845d-4ab6-befc-35e26d7dacce\">\n",
              "    <div class=\"colab-df-container\">\n",
              "      <div>\n",
              "<style scoped>\n",
              "    .dataframe tbody tr th:only-of-type {\n",
              "        vertical-align: middle;\n",
              "    }\n",
              "\n",
              "    .dataframe tbody tr th {\n",
              "        vertical-align: top;\n",
              "    }\n",
              "\n",
              "    .dataframe thead th {\n",
              "        text-align: right;\n",
              "    }\n",
              "</style>\n",
              "<table border=\"1\" class=\"dataframe\">\n",
              "  <thead>\n",
              "    <tr style=\"text-align: right;\">\n",
              "      <th></th>\n",
              "      <th>Data Structures and Algorithms</th>\n",
              "      <th>Computer Architecture\\n</th>\n",
              "      <th>Discrete Mathematics\\n</th>\n",
              "      <th>Economics</th>\n",
              "      <th>Programming-2</th>\n",
              "      <th>Machine Learning\\n</th>\n",
              "      <th>Mathematics For Machine Learning\\n</th>\n",
              "      <th>Visual Recognition\\n</th>\n",
              "      <th>Natural Language Processing\\n</th>\n",
              "      <th>Reinforcement Learning</th>\n",
              "      <th>...</th>\n",
              "      <th>Digital CMOS VLSI Design</th>\n",
              "      <th>System design with FPGA</th>\n",
              "      <th>ASIC design</th>\n",
              "      <th>VLSI Architecture Design\\n</th>\n",
              "      <th>High level synthesis and optimization of Digital Circuits</th>\n",
              "      <th>Digital Sociology</th>\n",
              "      <th>Privacy in the Digital Age</th>\n",
              "      <th>Technology Ethics and AI</th>\n",
              "      <th>Techno-economics of networks</th>\n",
              "      <th>The Web and the Mind</th>\n",
              "    </tr>\n",
              "  </thead>\n",
              "  <tbody>\n",
              "    <tr>\n",
              "      <th>0</th>\n",
              "      <td>0.30</td>\n",
              "      <td>0.85</td>\n",
              "      <td>0.85</td>\n",
              "      <td>0.90</td>\n",
              "      <td>0.70</td>\n",
              "      <td>0.70</td>\n",
              "      <td>0.80</td>\n",
              "      <td>NaN</td>\n",
              "      <td>NaN</td>\n",
              "      <td>NaN</td>\n",
              "      <td>...</td>\n",
              "      <td>NaN</td>\n",
              "      <td>NaN</td>\n",
              "      <td>NaN</td>\n",
              "      <td>NaN</td>\n",
              "      <td>NaN</td>\n",
              "      <td>NaN</td>\n",
              "      <td>0.6</td>\n",
              "      <td>NaN</td>\n",
              "      <td>NaN</td>\n",
              "      <td>NaN</td>\n",
              "    </tr>\n",
              "    <tr>\n",
              "      <th>1</th>\n",
              "      <td>0.70</td>\n",
              "      <td>0.80</td>\n",
              "      <td>0.20</td>\n",
              "      <td>0.80</td>\n",
              "      <td>0.80</td>\n",
              "      <td>0.50</td>\n",
              "      <td>0.10</td>\n",
              "      <td>0.20</td>\n",
              "      <td>NaN</td>\n",
              "      <td>NaN</td>\n",
              "      <td>...</td>\n",
              "      <td>NaN</td>\n",
              "      <td>NaN</td>\n",
              "      <td>NaN</td>\n",
              "      <td>NaN</td>\n",
              "      <td>NaN</td>\n",
              "      <td>NaN</td>\n",
              "      <td>0.5</td>\n",
              "      <td>NaN</td>\n",
              "      <td>NaN</td>\n",
              "      <td>NaN</td>\n",
              "    </tr>\n",
              "    <tr>\n",
              "      <th>2</th>\n",
              "      <td>0.70</td>\n",
              "      <td>0.00</td>\n",
              "      <td>1.00</td>\n",
              "      <td>1.00</td>\n",
              "      <td>1.00</td>\n",
              "      <td>1.00</td>\n",
              "      <td>1.00</td>\n",
              "      <td>0.80</td>\n",
              "      <td>0.9</td>\n",
              "      <td>1.0</td>\n",
              "      <td>...</td>\n",
              "      <td>NaN</td>\n",
              "      <td>NaN</td>\n",
              "      <td>NaN</td>\n",
              "      <td>NaN</td>\n",
              "      <td>NaN</td>\n",
              "      <td>NaN</td>\n",
              "      <td>0.4</td>\n",
              "      <td>NaN</td>\n",
              "      <td>NaN</td>\n",
              "      <td>NaN</td>\n",
              "    </tr>\n",
              "    <tr>\n",
              "      <th>3</th>\n",
              "      <td>0.65</td>\n",
              "      <td>0.70</td>\n",
              "      <td>0.20</td>\n",
              "      <td>0.75</td>\n",
              "      <td>0.75</td>\n",
              "      <td>0.75</td>\n",
              "      <td>0.75</td>\n",
              "      <td>0.75</td>\n",
              "      <td>NaN</td>\n",
              "      <td>NaN</td>\n",
              "      <td>...</td>\n",
              "      <td>NaN</td>\n",
              "      <td>NaN</td>\n",
              "      <td>NaN</td>\n",
              "      <td>NaN</td>\n",
              "      <td>NaN</td>\n",
              "      <td>0.8</td>\n",
              "      <td>NaN</td>\n",
              "      <td>NaN</td>\n",
              "      <td>0.8</td>\n",
              "      <td>NaN</td>\n",
              "    </tr>\n",
              "    <tr>\n",
              "      <th>4</th>\n",
              "      <td>0.70</td>\n",
              "      <td>0.60</td>\n",
              "      <td>0.20</td>\n",
              "      <td>0.00</td>\n",
              "      <td>0.80</td>\n",
              "      <td>0.50</td>\n",
              "      <td>0.60</td>\n",
              "      <td>0.40</td>\n",
              "      <td>0.4</td>\n",
              "      <td>0.2</td>\n",
              "      <td>...</td>\n",
              "      <td>0.0</td>\n",
              "      <td>0.0</td>\n",
              "      <td>0.0</td>\n",
              "      <td>0.0</td>\n",
              "      <td>0.0</td>\n",
              "      <td>0.0</td>\n",
              "      <td>0.0</td>\n",
              "      <td>0.0</td>\n",
              "      <td>0.0</td>\n",
              "      <td>0.0</td>\n",
              "    </tr>\n",
              "  </tbody>\n",
              "</table>\n",
              "<p>5 rows × 25 columns</p>\n",
              "</div>\n",
              "      <button class=\"colab-df-convert\" onclick=\"convertToInteractive('df-cf74e8c9-845d-4ab6-befc-35e26d7dacce')\"\n",
              "              title=\"Convert this dataframe to an interactive table.\"\n",
              "              style=\"display:none;\">\n",
              "        \n",
              "  <svg xmlns=\"http://www.w3.org/2000/svg\" height=\"24px\"viewBox=\"0 0 24 24\"\n",
              "       width=\"24px\">\n",
              "    <path d=\"M0 0h24v24H0V0z\" fill=\"none\"/>\n",
              "    <path d=\"M18.56 5.44l.94 2.06.94-2.06 2.06-.94-2.06-.94-.94-2.06-.94 2.06-2.06.94zm-11 1L8.5 8.5l.94-2.06 2.06-.94-2.06-.94L8.5 2.5l-.94 2.06-2.06.94zm10 10l.94 2.06.94-2.06 2.06-.94-2.06-.94-.94-2.06-.94 2.06-2.06.94z\"/><path d=\"M17.41 7.96l-1.37-1.37c-.4-.4-.92-.59-1.43-.59-.52 0-1.04.2-1.43.59L10.3 9.45l-7.72 7.72c-.78.78-.78 2.05 0 2.83L4 21.41c.39.39.9.59 1.41.59.51 0 1.02-.2 1.41-.59l7.78-7.78 2.81-2.81c.8-.78.8-2.07 0-2.86zM5.41 20L4 18.59l7.72-7.72 1.47 1.35L5.41 20z\"/>\n",
              "  </svg>\n",
              "      </button>\n",
              "      \n",
              "  <style>\n",
              "    .colab-df-container {\n",
              "      display:flex;\n",
              "      flex-wrap:wrap;\n",
              "      gap: 12px;\n",
              "    }\n",
              "\n",
              "    .colab-df-convert {\n",
              "      background-color: #E8F0FE;\n",
              "      border: none;\n",
              "      border-radius: 50%;\n",
              "      cursor: pointer;\n",
              "      display: none;\n",
              "      fill: #1967D2;\n",
              "      height: 32px;\n",
              "      padding: 0 0 0 0;\n",
              "      width: 32px;\n",
              "    }\n",
              "\n",
              "    .colab-df-convert:hover {\n",
              "      background-color: #E2EBFA;\n",
              "      box-shadow: 0px 1px 2px rgba(60, 64, 67, 0.3), 0px 1px 3px 1px rgba(60, 64, 67, 0.15);\n",
              "      fill: #174EA6;\n",
              "    }\n",
              "\n",
              "    [theme=dark] .colab-df-convert {\n",
              "      background-color: #3B4455;\n",
              "      fill: #D2E3FC;\n",
              "    }\n",
              "\n",
              "    [theme=dark] .colab-df-convert:hover {\n",
              "      background-color: #434B5C;\n",
              "      box-shadow: 0px 1px 3px 1px rgba(0, 0, 0, 0.15);\n",
              "      filter: drop-shadow(0px 1px 2px rgba(0, 0, 0, 0.3));\n",
              "      fill: #FFFFFF;\n",
              "    }\n",
              "  </style>\n",
              "\n",
              "      <script>\n",
              "        const buttonEl =\n",
              "          document.querySelector('#df-cf74e8c9-845d-4ab6-befc-35e26d7dacce button.colab-df-convert');\n",
              "        buttonEl.style.display =\n",
              "          google.colab.kernel.accessAllowed ? 'block' : 'none';\n",
              "\n",
              "        async function convertToInteractive(key) {\n",
              "          const element = document.querySelector('#df-cf74e8c9-845d-4ab6-befc-35e26d7dacce');\n",
              "          const dataTable =\n",
              "            await google.colab.kernel.invokeFunction('convertToInteractive',\n",
              "                                                     [key], {});\n",
              "          if (!dataTable) return;\n",
              "\n",
              "          const docLinkHtml = 'Like what you see? Visit the ' +\n",
              "            '<a target=\"_blank\" href=https://colab.research.google.com/notebooks/data_table.ipynb>data table notebook</a>'\n",
              "            + ' to learn more about interactive tables.';\n",
              "          element.innerHTML = '';\n",
              "          dataTable['output_type'] = 'display_data';\n",
              "          await google.colab.output.renderOutput(dataTable, element);\n",
              "          const docLink = document.createElement('div');\n",
              "          docLink.innerHTML = docLinkHtml;\n",
              "          element.appendChild(docLink);\n",
              "        }\n",
              "      </script>\n",
              "    </div>\n",
              "  </div>\n",
              "  "
            ]
          },
          "metadata": {},
          "execution_count": 55
        }
      ],
      "source": [
        "DF.head()"
      ]
    },
    {
      "cell_type": "code",
      "source": [
        "DF.dropna(inplace=True)\n",
        "\n",
        "len(DF)\n",
        "# DF.head()"
      ],
      "metadata": {
        "colab": {
          "base_uri": "https://localhost:8080/"
        },
        "id": "mmBStD0KTWcC",
        "outputId": "b9239373-57db-4dc7-9698-8017a116c4d0"
      },
      "execution_count": null,
      "outputs": [
        {
          "output_type": "execute_result",
          "data": {
            "text/plain": [
              "52"
            ]
          },
          "metadata": {},
          "execution_count": 56
        }
      ]
    },
    {
      "cell_type": "code",
      "source": [
        "# scaled_df = StandardScaler().fit_transform(DF)"
      ],
      "metadata": {
        "id": "4Ur9BK0HUGWG"
      },
      "execution_count": null,
      "outputs": []
    },
    {
      "cell_type": "code",
      "source": [
        "#initialize kmeans parameters\n",
        "kmeans_kwargs = {\n",
        "\"init\": \"random\",\n",
        "\"n_init\": 10,\n",
        "\"random_state\": 1,\n",
        "}\n",
        "\n",
        "#create list to hold SSE values for each k\n",
        "sse = []\n",
        "for k in range(1, 21):\n",
        "    kmeans = KMeans(n_clusters=k, **kmeans_kwargs)\n",
        "    kmeans.fit(DF)\n",
        "    if(k == 5):\n",
        "      print(kmeans.inertia_)\n",
        "    sse.append(kmeans.inertia_)\n",
        "\n",
        "#visualize results\n",
        "plt.plot(range(1, 21), sse)\n",
        "plt.xticks(range(1, 21))\n",
        "plt.xlabel(\"Number of Clusters\")\n",
        "plt.ylabel(\"SSE\")\n",
        "plt.show()"
      ],
      "metadata": {
        "colab": {
          "base_uri": "https://localhost:8080/",
          "height": 296
        },
        "id": "Rz23BpUgTbNn",
        "outputId": "5ad33f56-c840-498b-e0cc-6105619a4059"
      },
      "execution_count": null,
      "outputs": [
        {
          "output_type": "stream",
          "name": "stdout",
          "text": [
            "100.5422794117647\n"
          ]
        },
        {
          "output_type": "display_data",
          "data": {
            "text/plain": [
              "<Figure size 432x288 with 1 Axes>"
            ],
            "image/png": "[encoded data removed]"
          },
          "metadata": {
            "needs_background": "light"
          }
        }
      ]
    },
    {
      "cell_type": "code",
      "source": [
        "from sklearn.metrics import silhouette_score\n",
        "\n",
        "sil = []\n",
        "kmax = 20\n",
        "\n",
        "# dissimilarity would not be defined for a single cluster, thus, minimum number of clusters should be 2\n",
        "for k in range(2, kmax+1):\n",
        "  kmeans = KMeans(n_clusters = k).fit(DF)\n",
        "  labels = kmeans.labels_\n",
        "  if(k == 5):\n",
        "    print(kmeans.labels_)\n",
        "  sil.append(silhouette_score(DF, labels, metric = 'euclidean'))\n",
        "\n",
        "plt.plot(range(2, 21), sil)\n",
        "plt.xticks(range(2, 21))\n",
        "plt.xlabel(\"Number of Clusters\")\n",
        "plt.ylabel(\"SIL\")\n",
        "plt.show()"
      ],
      "metadata": {
        "colab": {
          "base_uri": "https://localhost:8080/",
          "height": 318
        },
        "id": "ge4pGqOlU5G3",
        "outputId": "a33e7e2d-258e-490a-8072-375a5e25f9ca"
      },
      "execution_count": null,
      "outputs": [
        {
          "output_type": "stream",
          "name": "stdout",
          "text": [
            "[0 0 4 4 0 1 4 1 2 0 3 4 0 4 2 1 2 1 2 4 1 4 2 2 3 4 2 0 2 2 0 2 1 3 0 1 4\n",
            " 0 4 3 1 2 1 3 1 1 0 2 4 1 2 4]\n"
          ]
        },
        {
          "output_type": "display_data",
          "data": {
            "text/plain": [
              "<Figure size 432x288 with 1 Axes>"
            ],
            "image/png": "[encoded data removed]"
          },
          "metadata": {
            "needs_background": "light"
          }
        }
      ]
    },
    {
      "cell_type": "markdown",
      "source": [
        "Optimal k feels like 5 since there is  a elbow in SSE and Silhoutee score has a peak"
      ],
      "metadata": {
        "id": "1WYriY2PWows"
      }
    },
    {
      "cell_type": "code",
      "source": [
        "# from sklearn.decomposition import TruncatedSVD\n",
        "\n",
        "data = pd.read_excel('/content/gdrive/MyDrive/RS/Course Recommendation System(1-162).xlsx')\n",
        "\n",
        "data = data.fillna(0.5)\n",
        "\n",
        "X = data.drop(data.iloc[:, 0:6], axis=1) # Delete unnecessary columns\n",
        "\n",
        "class TruncatedSVD:\n",
        "    def __init__(self, n_components):\n",
        "        self.n_components = n_components\n",
        "    \n",
        "    def my_fit_transform(self, A):\n",
        "        m, n = A.shape\n",
        "\n",
        "        ATA = np.dot(A.T, A)\n",
        "        AAT = np.dot(A, A.T)\n",
        "\n",
        "        eigenvalues, eigenvectors = self.my_eig(ATA)\n",
        "\n",
        "        sort_index = np.argsort(eigenvalues)[::-1]\n",
        "        eigenvectors = eigenvectors[:, sort_index]\n",
        "        eigenvalues = eigenvalues[sort_index]\n",
        "\n",
        "        self.U = np.dot(A, eigenvectors)\n",
        "\n",
        "        self.S = np.sqrt(eigenvalues[:self.n_components])\n",
        "\n",
        "        self.Vt = eigenvectors.T[:self.n_components, :]\n",
        "\n",
        "        return np.dot(np.dot(self.U[:, :self.n_components], np.diag(self.S)), self.Vt)\n",
        "\n",
        "    def my_transform(self, A):\n",
        "        return np.dot(np.dot(A, self.Vt.T), np.diag(self.S ** -1))[:, :self.n_components]\n",
        "\n",
        "    def my_eig(self, A, num_iterations = 10):\n",
        "      n = A.shape[0]\n",
        "      Q = np.identity(n)\n",
        "      for i in range(num_iterations):\n",
        "          # Q, R = np.linalg.qr(A.dot(Q))\n",
        "          Q, R = self.my_gram_Schmidt(A.dot(Q))\n",
        "          A = R.dot(Q)\n",
        "      eigenvalues = np.diag(A)\n",
        "      eigenvectors = Q\n",
        "      return eigenvalues, eigenvectors\n",
        "\n",
        "    def my_gram_Schmidt(self,A):\n",
        "      m, n = A.shape\n",
        "      Q = np.zeros((m, n))\n",
        "      R = np.zeros((n, n))\n",
        "\n",
        "      for j in range(n):\n",
        "          v = A[:, j]\n",
        "          for i in range(j):\n",
        "              R[i, j] = Q[:, i].dot(A[:, j])\n",
        "              v = v - R[i, j] * Q[:, i]\n",
        "          R[j, j] = np.linalg.norm(v)\n",
        "          Q[:, j] = v / R[j, j]\n",
        "\n",
        "      return Q, R\n",
        "\n",
        "X = X.to_numpy()\n",
        "# print(X.shape)\n",
        "# print(X.head())\n",
        "# print(X)\n",
        "svd = TruncatedSVD(10)\n",
        "X = svd.my_fit_transform(X)\n",
        "# print(X.shape)\n",
        "# print(X)\n",
        "\n",
        "kmeans = KMeans(n_clusters=5, random_state=0).fit(X)\n",
        "A = kmeans.labels_\n",
        "\n",
        "print(A)\n"
      ],
      "metadata": {
        "id": "0VpinYUuWxhj",
        "colab": {
          "base_uri": "https://localhost:8080/"
        },
        "outputId": "5ba1f18e-1083-4f26-83f3-2a3d7f2616c8"
      },
      "execution_count": null,
      "outputs": [
        {
          "output_type": "stream",
          "name": "stdout",
          "text": [
            "[2 3 3 3 3 3 4 0 4 3 3 2 4 3 3 3 3 2 3 3 4 4 2 3 4 4 1 3 3 0 4 3 0 2 3 4 4\n",
            " 3 4 4 3 2 3 4 3 4 4 0 1 2 4 4 4 4 4 4 0 3 2 0 3 2 4 0 0 3 4 0 4 4 2 2 3 4\n",
            " 4 0 3 4 4 4 3 3 4 4 0 4 1 4 1 0 4 2 4 3 3 4 4 4 3 2 4 4 3 3 0 4 2 0 1 4 4\n",
            " 1 3 4 1 1 3 1 3 4 0 4 4 4 4 0 4 1 4 4 4 4 4 4 0 4 3 4 4 4 4 4 0 0 4 0 0 4\n",
            " 4 3 3 4 2 3 0 4 3 1 0 2 3 2]\n"
          ]
        }
      ]
    },
    {
      "cell_type": "code",
      "source": [
        "# Create a KMeans instance with k=3 clusters\n",
        "kmeans = my_KMeans(k=5)\n",
        "\n",
        "# Fit the model to the data\n",
        "kmeans.fit(DF)\n",
        "\n",
        "# Predict the cluster labels for the data points\n",
        "labels = kmeans.predict(DF)"
      ],
      "metadata": {
        "id": "qLZmJisRslwa"
      },
      "execution_count": null,
      "outputs": []
    },
    {
      "cell_type": "code",
      "source": [
        "print(labels)"
      ],
      "metadata": {
        "id": "f_uijSVStEOJ"
      },
      "execution_count": null,
      "outputs": []
    },
    {
      "cell_type": "markdown",
      "source": [
        "(128, 10)\n",
        "\n",
        "[1 3 1 3 4 1 2 3 1 1 1 1 1 1 1 1 2 1 3 1 3 1 3 0 1 1 3 2 2 4 3 0 2 0 3 2 1\n",
        " 1 4 1 3 0 0 1 3 1 1 3 0 3 3 1 2 1 1 4 2 3 1 1 0 3 1 3 2 3 3 3 2 1 3 3 3 1\n",
        " 0 2 3 1 3 1 3 3 4 1 2 1 3 1 3 4 2 2 1 3 2 0 1 1 3 3 4 2 0 1 4 2 2 0 2 3 1\n",
        " 2 3 3 0 1 1 1 2 2 4 1 1 2 1 2 1 3]"
      ],
      "metadata": {
        "id": "7RLC2nki1Qys"
      }
    },
    {
      "cell_type": "markdown",
      "source": [
        "[3 2 1 0 2 0 1 2 0 0 2 0 2 2 0 2 2 0 0 0 2 0 0 0 2 0 0 1 2 3 3 0 2 4 3 1 2\n",
        " 0 3 0 0 4 2 2 0 0 0 1 3 0 2 1 1 0 2 3 2 0 0 0 2 2 0 0 1 3 2 2 1 1 0 2 0 2\n",
        " 3 1 0 2 2 0 3 2 3 1 1 0 4 0 4 3 1 2 2 2 2 2 2 2 2 3 4 0 2 0 0 0 2 3 1 3 1\n",
        " 1 0 2 4 0 0 2 1 2 2 4 0 1 0 1 1 3]"
      ],
      "metadata": {
        "id": "INoTbbd245j_"
      }
    },
    {
      "cell_type": "code",
      "source": [
        "# self.adj = defaultdict(list)classification"
      ],
      "metadata": {
        "id": "yu_P1VJmtHJi"
      },
      "execution_count": null,
      "outputs": []
    },
    {
      "cell_type": "markdown",
      "source": [
        "[1 1 4 2 1 4 4 4 4 3 1 2 3 3 3 0 0 0 0 0 2 2 2 2 2]\n",
        "(25, 10)"
      ],
      "metadata": {
        "id": "ugHG55-Iq0y5"
      }
    }
  ],
  "metadata": {
    "kernelspec": {
      "display_name": "Python 3",
      "language": "python",
      "name": "python3"
    },
    "language_info": {
      "codemirror_mode": {
        "name": "ipython",
        "version": 3
      },
      "file_extension": ".py",
      "mimetype": "text/x-python",
      "name": "python",
      "nbconvert_exporter": "python",
      "pygments_lexer": "ipython3",
      "version": "3.8.10"
    },
    "orig_nbformat": 4,
    "vscode": {
      "interpreter": {
        "hash": "767d51c1340bd893661ea55ea3124f6de3c7a262a8b4abca0554b478b1e2ff90"
      }
    },
    "colab": {
      "provenance": [],
      "include_colab_link": true
    }
  },
  "nbformat": 4,
  "nbformat_minor": 0
}