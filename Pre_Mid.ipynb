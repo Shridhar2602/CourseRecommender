{
  "cells": [
    {
      "cell_type": "markdown",
      "metadata": {
        "id": "view-in-github",
        "colab_type": "text"
      },
      "source": [
        "<a href=\"https://colab.research.google.com/github/Shridhar2602/RecSys/blob/main/Pre_Mid.ipynb\" target=\"_parent\"><img src=\"https://colab.research.google.com/assets/colab-badge.svg\" alt=\"Open In Colab\"/></a>"
      ]
    },
    {
      "cell_type": "code",
      "source": [
        "from google.colab import drive\n",
        "\n",
        "drive.mount('/content/gdrive')"
      ],
      "metadata": {
        "colab": {
          "base_uri": "https://localhost:8080/"
        },
        "id": "xEh2STklRsiY",
        "outputId": "fcb8e04b-25f3-4fe8-a8b8-2d161ce712ca"
      },
      "execution_count": 1,
      "outputs": [
        {
          "output_type": "stream",
          "name": "stdout",
          "text": [
            "Mounted at /content/gdrive\n"
          ]
        }
      ]
    },
    {
      "cell_type": "markdown",
      "metadata": {
        "id": "qUDRyhsQRjoM"
      },
      "source": [
        "### Imports"
      ]
    },
    {
      "cell_type": "code",
      "execution_count": 2,
      "metadata": {
        "id": "ySDaaIL-RjoP"
      },
      "outputs": [],
      "source": [
        "import pandas as pd\n",
        "import numpy as np\n",
        "from sklearn.cluster import KMeans\n",
        "import matplotlib.pyplot as plt\n",
        "from sklearn.preprocessing import StandardScaler\n",
        "import math"
      ]
    },
    {
      "cell_type": "markdown",
      "metadata": {
        "id": "T17kS7rBRjoR"
      },
      "source": [
        "### Read Data and tweaks"
      ]
    },
    {
      "cell_type": "code",
      "execution_count": 3,
      "metadata": {
        "colab": {
          "base_uri": "https://localhost:8080/"
        },
        "id": "71wZ0BZiRjoR",
        "outputId": "ce04430e-9055-4841-a050-e87aebcbb022"
      },
      "outputs": [
        {
          "output_type": "execute_result",
          "data": {
            "text/plain": [
              "128"
            ]
          },
          "metadata": {},
          "execution_count": 3
        }
      ],
      "source": [
        "DF = pd.read_excel('/content/gdrive/MyDrive/RS/Course Recommendation System(1-128).xlsx')\n",
        "DF.drop(DF.iloc[:, 0:6], axis=1, inplace=True) # Delete unnecessary columns\n",
        "# DF.drop_duplicates(keep=False, inplace=True) # Remove duplicate rows\n",
        "len(DF)"
      ]
    },
    {
      "cell_type": "code",
      "execution_count": 4,
      "metadata": {
        "colab": {
          "base_uri": "https://localhost:8080/",
          "height": 386
        },
        "id": "39eF_O7IRjoT",
        "outputId": "cf483b30-1784-4cfe-d7f3-656615cf00fe"
      },
      "outputs": [
        {
          "output_type": "execute_result",
          "data": {
            "text/plain": [
              "   Data Structures and Algorithms  Computer Architecture\\n  \\\n",
              "0                            0.30                     0.85   \n",
              "1                            0.70                     0.80   \n",
              "2                            0.70                     0.00   \n",
              "3                            0.65                     0.70   \n",
              "4                            0.70                     0.60   \n",
              "\n",
              "   Discrete Mathematics\\n  Economics  Programming-2  Machine Learning\\n  \\\n",
              "0                    0.85       0.90           0.70                0.70   \n",
              "1                    0.20       0.80           0.80                0.50   \n",
              "2                    1.00       1.00           1.00                1.00   \n",
              "3                    0.20       0.75           0.75                0.75   \n",
              "4                    0.20       0.00           0.80                0.50   \n",
              "\n",
              "   Mathematics For Machine Learning\\n  Visual Recognition\\n  \\\n",
              "0                                0.80                   NaN   \n",
              "1                                0.10                  0.20   \n",
              "2                                1.00                  0.80   \n",
              "3                                0.75                  0.75   \n",
              "4                                0.60                  0.40   \n",
              "\n",
              "   Natural Language Processing\\n  Reinforcement Learning  ...  \\\n",
              "0                            NaN                     NaN  ...   \n",
              "1                            NaN                     NaN  ...   \n",
              "2                            0.9                     1.0  ...   \n",
              "3                            NaN                     NaN  ...   \n",
              "4                            0.4                     0.2  ...   \n",
              "\n",
              "   Digital CMOS VLSI Design   System design with FPGA   ASIC design   \\\n",
              "0                        NaN                       NaN           NaN   \n",
              "1                        NaN                       NaN           NaN   \n",
              "2                        NaN                       NaN           NaN   \n",
              "3                        NaN                       NaN           NaN   \n",
              "4                        0.0                       0.0           0.0   \n",
              "\n",
              "   VLSI Architecture Design\\n  \\\n",
              "0                         NaN   \n",
              "1                         NaN   \n",
              "2                         NaN   \n",
              "3                         NaN   \n",
              "4                         0.0   \n",
              "\n",
              "   High level synthesis and optimization of Digital Circuits   \\\n",
              "0                                                NaN            \n",
              "1                                                NaN            \n",
              "2                                                NaN            \n",
              "3                                                NaN            \n",
              "4                                                0.0            \n",
              "\n",
              "   Digital Sociology   Privacy in the Digital Age  Technology Ethics and AI   \\\n",
              "0                 NaN                         0.6                        NaN   \n",
              "1                 NaN                         0.5                        NaN   \n",
              "2                 NaN                         0.4                        NaN   \n",
              "3                 0.8                         NaN                        NaN   \n",
              "4                 0.0                         0.0                        0.0   \n",
              "\n",
              "   Techno-economics of networks   The Web and the Mind   \n",
              "0                            NaN                    NaN  \n",
              "1                            NaN                    NaN  \n",
              "2                            NaN                    NaN  \n",
              "3                            0.8                    NaN  \n",
              "4                            0.0                    0.0  \n",
              "\n",
              "[5 rows x 25 columns]"
            ],
            "text/html": [
              "\n",
              "  <div id=\"df-3fbdf568-1efc-4db7-8ab0-adb95ba385a3\">\n",
              "    <div class=\"colab-df-container\">\n",
              "      <div>\n",
              "<style scoped>\n",
              "    .dataframe tbody tr th:only-of-type {\n",
              "        vertical-align: middle;\n",
              "    }\n",
              "\n",
              "    .dataframe tbody tr th {\n",
              "        vertical-align: top;\n",
              "    }\n",
              "\n",
              "    .dataframe thead th {\n",
              "        text-align: right;\n",
              "    }\n",
              "</style>\n",
              "<table border=\"1\" class=\"dataframe\">\n",
              "  <thead>\n",
              "    <tr style=\"text-align: right;\">\n",
              "      <th></th>\n",
              "      <th>Data Structures and Algorithms</th>\n",
              "      <th>Computer Architecture\\n</th>\n",
              "      <th>Discrete Mathematics\\n</th>\n",
              "      <th>Economics</th>\n",
              "      <th>Programming-2</th>\n",
              "      <th>Machine Learning\\n</th>\n",
              "      <th>Mathematics For Machine Learning\\n</th>\n",
              "      <th>Visual Recognition\\n</th>\n",
              "      <th>Natural Language Processing\\n</th>\n",
              "      <th>Reinforcement Learning</th>\n",
              "      <th>...</th>\n",
              "      <th>Digital CMOS VLSI Design</th>\n",
              "      <th>System design with FPGA</th>\n",
              "      <th>ASIC design</th>\n",
              "      <th>VLSI Architecture Design\\n</th>\n",
              "      <th>High level synthesis and optimization of Digital Circuits</th>\n",
              "      <th>Digital Sociology</th>\n",
              "      <th>Privacy in the Digital Age</th>\n",
              "      <th>Technology Ethics and AI</th>\n",
              "      <th>Techno-economics of networks</th>\n",
              "      <th>The Web and the Mind</th>\n",
              "    </tr>\n",
              "  </thead>\n",
              "  <tbody>\n",
              "    <tr>\n",
              "      <th>0</th>\n",
              "      <td>0.30</td>\n",
              "      <td>0.85</td>\n",
              "      <td>0.85</td>\n",
              "      <td>0.90</td>\n",
              "      <td>0.70</td>\n",
              "      <td>0.70</td>\n",
              "      <td>0.80</td>\n",
              "      <td>NaN</td>\n",
              "      <td>NaN</td>\n",
              "      <td>NaN</td>\n",
              "      <td>...</td>\n",
              "      <td>NaN</td>\n",
              "      <td>NaN</td>\n",
              "      <td>NaN</td>\n",
              "      <td>NaN</td>\n",
              "      <td>NaN</td>\n",
              "      <td>NaN</td>\n",
              "      <td>0.6</td>\n",
              "      <td>NaN</td>\n",
              "      <td>NaN</td>\n",
              "      <td>NaN</td>\n",
              "    </tr>\n",
              "    <tr>\n",
              "      <th>1</th>\n",
              "      <td>0.70</td>\n",
              "      <td>0.80</td>\n",
              "      <td>0.20</td>\n",
              "      <td>0.80</td>\n",
              "      <td>0.80</td>\n",
              "      <td>0.50</td>\n",
              "      <td>0.10</td>\n",
              "      <td>0.20</td>\n",
              "      <td>NaN</td>\n",
              "      <td>NaN</td>\n",
              "      <td>...</td>\n",
              "      <td>NaN</td>\n",
              "      <td>NaN</td>\n",
              "      <td>NaN</td>\n",
              "      <td>NaN</td>\n",
              "      <td>NaN</td>\n",
              "      <td>NaN</td>\n",
              "      <td>0.5</td>\n",
              "      <td>NaN</td>\n",
              "      <td>NaN</td>\n",
              "      <td>NaN</td>\n",
              "    </tr>\n",
              "    <tr>\n",
              "      <th>2</th>\n",
              "      <td>0.70</td>\n",
              "      <td>0.00</td>\n",
              "      <td>1.00</td>\n",
              "      <td>1.00</td>\n",
              "      <td>1.00</td>\n",
              "      <td>1.00</td>\n",
              "      <td>1.00</td>\n",
              "      <td>0.80</td>\n",
              "      <td>0.9</td>\n",
              "      <td>1.0</td>\n",
              "      <td>...</td>\n",
              "      <td>NaN</td>\n",
              "      <td>NaN</td>\n",
              "      <td>NaN</td>\n",
              "      <td>NaN</td>\n",
              "      <td>NaN</td>\n",
              "      <td>NaN</td>\n",
              "      <td>0.4</td>\n",
              "      <td>NaN</td>\n",
              "      <td>NaN</td>\n",
              "      <td>NaN</td>\n",
              "    </tr>\n",
              "    <tr>\n",
              "      <th>3</th>\n",
              "      <td>0.65</td>\n",
              "      <td>0.70</td>\n",
              "      <td>0.20</td>\n",
              "      <td>0.75</td>\n",
              "      <td>0.75</td>\n",
              "      <td>0.75</td>\n",
              "      <td>0.75</td>\n",
              "      <td>0.75</td>\n",
              "      <td>NaN</td>\n",
              "      <td>NaN</td>\n",
              "      <td>...</td>\n",
              "      <td>NaN</td>\n",
              "      <td>NaN</td>\n",
              "      <td>NaN</td>\n",
              "      <td>NaN</td>\n",
              "      <td>NaN</td>\n",
              "      <td>0.8</td>\n",
              "      <td>NaN</td>\n",
              "      <td>NaN</td>\n",
              "      <td>0.8</td>\n",
              "      <td>NaN</td>\n",
              "    </tr>\n",
              "    <tr>\n",
              "      <th>4</th>\n",
              "      <td>0.70</td>\n",
              "      <td>0.60</td>\n",
              "      <td>0.20</td>\n",
              "      <td>0.00</td>\n",
              "      <td>0.80</td>\n",
              "      <td>0.50</td>\n",
              "      <td>0.60</td>\n",
              "      <td>0.40</td>\n",
              "      <td>0.4</td>\n",
              "      <td>0.2</td>\n",
              "      <td>...</td>\n",
              "      <td>0.0</td>\n",
              "      <td>0.0</td>\n",
              "      <td>0.0</td>\n",
              "      <td>0.0</td>\n",
              "      <td>0.0</td>\n",
              "      <td>0.0</td>\n",
              "      <td>0.0</td>\n",
              "      <td>0.0</td>\n",
              "      <td>0.0</td>\n",
              "      <td>0.0</td>\n",
              "    </tr>\n",
              "  </tbody>\n",
              "</table>\n",
              "<p>5 rows × 25 columns</p>\n",
              "</div>\n",
              "      <button class=\"colab-df-convert\" onclick=\"convertToInteractive('df-3fbdf568-1efc-4db7-8ab0-adb95ba385a3')\"\n",
              "              title=\"Convert this dataframe to an interactive table.\"\n",
              "              style=\"display:none;\">\n",
              "        \n",
              "  <svg xmlns=\"http://www.w3.org/2000/svg\" height=\"24px\"viewBox=\"0 0 24 24\"\n",
              "       width=\"24px\">\n",
              "    <path d=\"M0 0h24v24H0V0z\" fill=\"none\"/>\n",
              "    <path d=\"M18.56 5.44l.94 2.06.94-2.06 2.06-.94-2.06-.94-.94-2.06-.94 2.06-2.06.94zm-11 1L8.5 8.5l.94-2.06 2.06-.94-2.06-.94L8.5 2.5l-.94 2.06-2.06.94zm10 10l.94 2.06.94-2.06 2.06-.94-2.06-.94-.94-2.06-.94 2.06-2.06.94z\"/><path d=\"M17.41 7.96l-1.37-1.37c-.4-.4-.92-.59-1.43-.59-.52 0-1.04.2-1.43.59L10.3 9.45l-7.72 7.72c-.78.78-.78 2.05 0 2.83L4 21.41c.39.39.9.59 1.41.59.51 0 1.02-.2 1.41-.59l7.78-7.78 2.81-2.81c.8-.78.8-2.07 0-2.86zM5.41 20L4 18.59l7.72-7.72 1.47 1.35L5.41 20z\"/>\n",
              "  </svg>\n",
              "      </button>\n",
              "      \n",
              "  <style>\n",
              "    .colab-df-container {\n",
              "      display:flex;\n",
              "      flex-wrap:wrap;\n",
              "      gap: 12px;\n",
              "    }\n",
              "\n",
              "    .colab-df-convert {\n",
              "      background-color: #E8F0FE;\n",
              "      border: none;\n",
              "      border-radius: 50%;\n",
              "      cursor: pointer;\n",
              "      display: none;\n",
              "      fill: #1967D2;\n",
              "      height: 32px;\n",
              "      padding: 0 0 0 0;\n",
              "      width: 32px;\n",
              "    }\n",
              "\n",
              "    .colab-df-convert:hover {\n",
              "      background-color: #E2EBFA;\n",
              "      box-shadow: 0px 1px 2px rgba(60, 64, 67, 0.3), 0px 1px 3px 1px rgba(60, 64, 67, 0.15);\n",
              "      fill: #174EA6;\n",
              "    }\n",
              "\n",
              "    [theme=dark] .colab-df-convert {\n",
              "      background-color: #3B4455;\n",
              "      fill: #D2E3FC;\n",
              "    }\n",
              "\n",
              "    [theme=dark] .colab-df-convert:hover {\n",
              "      background-color: #434B5C;\n",
              "      box-shadow: 0px 1px 3px 1px rgba(0, 0, 0, 0.15);\n",
              "      filter: drop-shadow(0px 1px 2px rgba(0, 0, 0, 0.3));\n",
              "      fill: #FFFFFF;\n",
              "    }\n",
              "  </style>\n",
              "\n",
              "      <script>\n",
              "        const buttonEl =\n",
              "          document.querySelector('#df-3fbdf568-1efc-4db7-8ab0-adb95ba385a3 button.colab-df-convert');\n",
              "        buttonEl.style.display =\n",
              "          google.colab.kernel.accessAllowed ? 'block' : 'none';\n",
              "\n",
              "        async function convertToInteractive(key) {\n",
              "          const element = document.querySelector('#df-3fbdf568-1efc-4db7-8ab0-adb95ba385a3');\n",
              "          const dataTable =\n",
              "            await google.colab.kernel.invokeFunction('convertToInteractive',\n",
              "                                                     [key], {});\n",
              "          if (!dataTable) return;\n",
              "\n",
              "          const docLinkHtml = 'Like what you see? Visit the ' +\n",
              "            '<a target=\"_blank\" href=https://colab.research.google.com/notebooks/data_table.ipynb>data table notebook</a>'\n",
              "            + ' to learn more about interactive tables.';\n",
              "          element.innerHTML = '';\n",
              "          dataTable['output_type'] = 'display_data';\n",
              "          await google.colab.output.renderOutput(dataTable, element);\n",
              "          const docLink = document.createElement('div');\n",
              "          docLink.innerHTML = docLinkHtml;\n",
              "          element.appendChild(docLink);\n",
              "        }\n",
              "      </script>\n",
              "    </div>\n",
              "  </div>\n",
              "  "
            ]
          },
          "metadata": {},
          "execution_count": 4
        }
      ],
      "source": [
        "DF.head()"
      ]
    },
    {
      "cell_type": "code",
      "source": [
        "DF.dropna(inplace=True)\n",
        "\n",
        "len(DF)\n",
        "# DF.head()"
      ],
      "metadata": {
        "colab": {
          "base_uri": "https://localhost:8080/"
        },
        "id": "mmBStD0KTWcC",
        "outputId": "81c52388-0eb7-4fbb-f15a-0ee5e442f91c"
      },
      "execution_count": 5,
      "outputs": [
        {
          "output_type": "execute_result",
          "data": {
            "text/plain": [
              "52"
            ]
          },
          "metadata": {},
          "execution_count": 5
        }
      ]
    },
    {
      "cell_type": "code",
      "source": [
        "# scaled_df = StandardScaler().fit_transform(DF)"
      ],
      "metadata": {
        "id": "4Ur9BK0HUGWG"
      },
      "execution_count": 6,
      "outputs": []
    },
    {
      "cell_type": "code",
      "source": [
        "#initialize kmeans parameters\n",
        "kmeans_kwargs = {\n",
        "\"init\": \"random\",\n",
        "\"n_init\": 10,\n",
        "\"random_state\": 1,\n",
        "}\n",
        "\n",
        "#create list to hold SSE values for each k\n",
        "sse = []\n",
        "for k in range(1, 21):\n",
        "    kmeans = KMeans(n_clusters=k, **kmeans_kwargs)\n",
        "    kmeans.fit(DF)\n",
        "    if(k == 5):\n",
        "      print(kmeans.inertia_)\n",
        "    sse.append(kmeans.inertia_)\n",
        "\n",
        "#visualize results\n",
        "plt.plot(range(1, 21), sse)\n",
        "plt.xticks(range(1, 21))\n",
        "plt.xlabel(\"Number of Clusters\")\n",
        "plt.ylabel(\"SSE\")\n",
        "plt.show()"
      ],
      "metadata": {
        "colab": {
          "base_uri": "https://localhost:8080/",
          "height": 296
        },
        "id": "Rz23BpUgTbNn",
        "outputId": "0b11747a-f1b3-4cec-e35c-56cd6c5cc4fb"
      },
      "execution_count": 7,
      "outputs": [
        {
          "output_type": "stream",
          "name": "stdout",
          "text": [
            "100.5422794117647\n"
          ]
        },
        {
          "output_type": "display_data",
          "data": {
            "text/plain": [
              "<Figure size 432x288 with 1 Axes>"
            ],
            "image/png": "[encoded data removed]"
          },
          "metadata": {
            "needs_background": "light"
          }
        }
      ]
    },
    {
      "cell_type": "code",
      "source": [
        "from sklearn.metrics import silhouette_score\n",
        "\n",
        "sil = []\n",
        "kmax = 20\n",
        "\n",
        "# dissimilarity would not be defined for a single cluster, thus, minimum number of clusters should be 2\n",
        "for k in range(2, kmax+1):\n",
        "  kmeans = KMeans(n_clusters = k).fit(DF)\n",
        "  labels = kmeans.labels_\n",
        "  if(k == 5):\n",
        "    print(kmeans.labels_)\n",
        "  sil.append(silhouette_score(DF, labels, metric = 'euclidean'))\n",
        "\n",
        "plt.plot(range(2, 21), sil)\n",
        "plt.xticks(range(2, 21))\n",
        "plt.xlabel(\"Number of Clusters\")\n",
        "plt.ylabel(\"SIL\")\n",
        "plt.show()"
      ],
      "metadata": {
        "colab": {
          "base_uri": "https://localhost:8080/",
          "height": 993
        },
        "id": "ge4pGqOlU5G3",
        "outputId": "bc675793-5153-4d40-ab1b-1ad81243c045"
      },
      "execution_count": 8,
      "outputs": [
        {
          "output_type": "stream",
          "name": "stderr",
          "text": [
            "/usr/local/lib/python3.9/dist-packages/sklearn/cluster/_kmeans.py:870: FutureWarning: The default value of `n_init` will change from 10 to 'auto' in 1.4. Set the value of `n_init` explicitly to suppress the warning\n",
            "  warnings.warn(\n",
            "/usr/local/lib/python3.9/dist-packages/sklearn/cluster/_kmeans.py:870: FutureWarning: The default value of `n_init` will change from 10 to 'auto' in 1.4. Set the value of `n_init` explicitly to suppress the warning\n",
            "  warnings.warn(\n",
            "/usr/local/lib/python3.9/dist-packages/sklearn/cluster/_kmeans.py:870: FutureWarning: The default value of `n_init` will change from 10 to 'auto' in 1.4. Set the value of `n_init` explicitly to suppress the warning\n",
            "  warnings.warn(\n",
            "/usr/local/lib/python3.9/dist-packages/sklearn/cluster/_kmeans.py:870: FutureWarning: The default value of `n_init` will change from 10 to 'auto' in 1.4. Set the value of `n_init` explicitly to suppress the warning\n",
            "  warnings.warn(\n",
            "/usr/local/lib/python3.9/dist-packages/sklearn/cluster/_kmeans.py:870: FutureWarning: The default value of `n_init` will change from 10 to 'auto' in 1.4. Set the value of `n_init` explicitly to suppress the warning\n",
            "  warnings.warn(\n",
            "/usr/local/lib/python3.9/dist-packages/sklearn/cluster/_kmeans.py:870: FutureWarning: The default value of `n_init` will change from 10 to 'auto' in 1.4. Set the value of `n_init` explicitly to suppress the warning\n",
            "  warnings.warn(\n",
            "/usr/local/lib/python3.9/dist-packages/sklearn/cluster/_kmeans.py:870: FutureWarning: The default value of `n_init` will change from 10 to 'auto' in 1.4. Set the value of `n_init` explicitly to suppress the warning\n",
            "  warnings.warn(\n",
            "/usr/local/lib/python3.9/dist-packages/sklearn/cluster/_kmeans.py:870: FutureWarning: The default value of `n_init` will change from 10 to 'auto' in 1.4. Set the value of `n_init` explicitly to suppress the warning\n",
            "  warnings.warn(\n",
            "/usr/local/lib/python3.9/dist-packages/sklearn/cluster/_kmeans.py:870: FutureWarning: The default value of `n_init` will change from 10 to 'auto' in 1.4. Set the value of `n_init` explicitly to suppress the warning\n",
            "  warnings.warn(\n"
          ]
        },
        {
          "output_type": "stream",
          "name": "stdout",
          "text": [
            "[4 4 1 1 4 1 1 1 0 4 2 2 1 1 3 1 3 1 0 1 1 1 3 3 0 1 3 4 3 0 1 0 1 2 4 1 1\n",
            " 4 1 2 1 3 1 2 1 1 4 0 3 3 0 1]\n"
          ]
        },
        {
          "output_type": "stream",
          "name": "stderr",
          "text": [
            "/usr/local/lib/python3.9/dist-packages/sklearn/cluster/_kmeans.py:870: FutureWarning: The default value of `n_init` will change from 10 to 'auto' in 1.4. Set the value of `n_init` explicitly to suppress the warning\n",
            "  warnings.warn(\n",
            "/usr/local/lib/python3.9/dist-packages/sklearn/cluster/_kmeans.py:870: FutureWarning: The default value of `n_init` will change from 10 to 'auto' in 1.4. Set the value of `n_init` explicitly to suppress the warning\n",
            "  warnings.warn(\n",
            "/usr/local/lib/python3.9/dist-packages/sklearn/cluster/_kmeans.py:870: FutureWarning: The default value of `n_init` will change from 10 to 'auto' in 1.4. Set the value of `n_init` explicitly to suppress the warning\n",
            "  warnings.warn(\n",
            "/usr/local/lib/python3.9/dist-packages/sklearn/cluster/_kmeans.py:870: FutureWarning: The default value of `n_init` will change from 10 to 'auto' in 1.4. Set the value of `n_init` explicitly to suppress the warning\n",
            "  warnings.warn(\n",
            "/usr/local/lib/python3.9/dist-packages/sklearn/cluster/_kmeans.py:870: FutureWarning: The default value of `n_init` will change from 10 to 'auto' in 1.4. Set the value of `n_init` explicitly to suppress the warning\n",
            "  warnings.warn(\n",
            "/usr/local/lib/python3.9/dist-packages/sklearn/cluster/_kmeans.py:870: FutureWarning: The default value of `n_init` will change from 10 to 'auto' in 1.4. Set the value of `n_init` explicitly to suppress the warning\n",
            "  warnings.warn(\n",
            "/usr/local/lib/python3.9/dist-packages/sklearn/cluster/_kmeans.py:870: FutureWarning: The default value of `n_init` will change from 10 to 'auto' in 1.4. Set the value of `n_init` explicitly to suppress the warning\n",
            "  warnings.warn(\n",
            "/usr/local/lib/python3.9/dist-packages/sklearn/cluster/_kmeans.py:870: FutureWarning: The default value of `n_init` will change from 10 to 'auto' in 1.4. Set the value of `n_init` explicitly to suppress the warning\n",
            "  warnings.warn(\n",
            "/usr/local/lib/python3.9/dist-packages/sklearn/cluster/_kmeans.py:870: FutureWarning: The default value of `n_init` will change from 10 to 'auto' in 1.4. Set the value of `n_init` explicitly to suppress the warning\n",
            "  warnings.warn(\n",
            "/usr/local/lib/python3.9/dist-packages/sklearn/cluster/_kmeans.py:870: FutureWarning: The default value of `n_init` will change from 10 to 'auto' in 1.4. Set the value of `n_init` explicitly to suppress the warning\n",
            "  warnings.warn(\n"
          ]
        },
        {
          "output_type": "display_data",
          "data": {
            "text/plain": [
              "<Figure size 432x288 with 1 Axes>"
            ],
            "image/png": "[encoded data removed]"
          },
          "metadata": {
            "needs_background": "light"
          }
        }
      ]
    },
    {
      "cell_type": "markdown",
      "source": [
        "Optimal k feels like 5 since there is  a elbow in SSE and Silhoutee score has a peak"
      ],
      "metadata": {
        "id": "1WYriY2PWows"
      }
    },
    {
      "cell_type": "code",
      "source": [
        "# Create a KMeans instance with k=3 clusters\n",
        "kmeans = my_KMeans(k=5)\n",
        "\n",
        "# Fit the model to the data\n",
        "kmeans.fit(DF)\n",
        "\n",
        "# Predict the cluster labels for the data points\n",
        "labels = kmeans.predict(DF)"
      ],
      "metadata": {
        "id": "qLZmJisRslwa",
        "colab": {
          "base_uri": "https://localhost:8080/",
          "height": 236
        },
        "outputId": "f11f9d2f-9aa3-48d3-9f76-26182f9b0425"
      },
      "execution_count": 9,
      "outputs": [
        {
          "output_type": "error",
          "ename": "NameError",
          "evalue": "ignored",
          "traceback": [
            "\u001b[0;31m---------------------------------------------------------------------------\u001b[0m",
            "\u001b[0;31mNameError\u001b[0m                                 Traceback (most recent call last)",
            "\u001b[0;32m<ipython-input-9-ace2afa68f16>\u001b[0m in \u001b[0;36m<module>\u001b[0;34m\u001b[0m\n\u001b[1;32m      1\u001b[0m \u001b[0;31m# Create a KMeans instance with k=3 clusters\u001b[0m\u001b[0;34m\u001b[0m\u001b[0;34m\u001b[0m\u001b[0m\n\u001b[0;32m----> 2\u001b[0;31m \u001b[0mkmeans\u001b[0m \u001b[0;34m=\u001b[0m \u001b[0mmy_KMeans\u001b[0m\u001b[0;34m(\u001b[0m\u001b[0mk\u001b[0m\u001b[0;34m=\u001b[0m\u001b[0;36m5\u001b[0m\u001b[0;34m)\u001b[0m\u001b[0;34m\u001b[0m\u001b[0;34m\u001b[0m\u001b[0m\n\u001b[0m\u001b[1;32m      3\u001b[0m \u001b[0;34m\u001b[0m\u001b[0m\n\u001b[1;32m      4\u001b[0m \u001b[0;31m# Fit the model to the data\u001b[0m\u001b[0;34m\u001b[0m\u001b[0;34m\u001b[0m\u001b[0m\n\u001b[1;32m      5\u001b[0m \u001b[0mkmeans\u001b[0m\u001b[0;34m.\u001b[0m\u001b[0mfit\u001b[0m\u001b[0;34m(\u001b[0m\u001b[0mDF\u001b[0m\u001b[0;34m)\u001b[0m\u001b[0;34m\u001b[0m\u001b[0;34m\u001b[0m\u001b[0m\n",
            "\u001b[0;31mNameError\u001b[0m: name 'my_KMeans' is not defined"
          ]
        }
      ]
    },
    {
      "cell_type": "code",
      "source": [
        "print(labels)"
      ],
      "metadata": {
        "id": "f_uijSVStEOJ"
      },
      "execution_count": null,
      "outputs": []
    },
    {
      "cell_type": "markdown",
      "source": [
        "(128, 10)\n",
        "\n",
        "[1 3 1 3 4 1 2 3 1 1 1 1 1 1 1 1 2 1 3 1 3 1 3 0 1 1 3 2 2 4 3 0 2 0 3 2 1\n",
        " 1 4 1 3 0 0 1 3 1 1 3 0 3 3 1 2 1 1 4 2 3 1 1 0 3 1 3 2 3 3 3 2 1 3 3 3 1\n",
        " 0 2 3 1 3 1 3 3 4 1 2 1 3 1 3 4 2 2 1 3 2 0 1 1 3 3 4 2 0 1 4 2 2 0 2 3 1\n",
        " 2 3 3 0 1 1 1 2 2 4 1 1 2 1 2 1 3]"
      ],
      "metadata": {
        "id": "7RLC2nki1Qys"
      }
    },
    {
      "cell_type": "markdown",
      "source": [
        "[3 2 1 0 2 0 1 2 0 0 2 0 2 2 0 2 2 0 0 0 2 0 0 0 2 0 0 1 2 3 3 0 2 4 3 1 2\n",
        " 0 3 0 0 4 2 2 0 0 0 1 3 0 2 1 1 0 2 3 2 0 0 0 2 2 0 0 1 3 2 2 1 1 0 2 0 2\n",
        " 3 1 0 2 2 0 3 2 3 1 1 0 4 0 4 3 1 2 2 2 2 2 2 2 2 3 4 0 2 0 0 0 2 3 1 3 1\n",
        " 1 0 2 4 0 0 2 1 2 2 4 0 1 0 1 1 3]"
      ],
      "metadata": {
        "id": "INoTbbd245j_"
      }
    },
    {
      "cell_type": "code",
      "source": [
        "# self.adj = defaultdict(list)classification"
      ],
      "metadata": {
        "id": "yu_P1VJmtHJi"
      },
      "execution_count": null,
      "outputs": []
    },
    {
      "cell_type": "markdown",
      "source": [
        "[1 1 4 2 1 4 4 4 4 3 1 2 3 3 3 0 0 0 0 0 2 2 2 2 2]\n",
        "(25, 10)"
      ],
      "metadata": {
        "id": "ugHG55-Iq0y5"
      }
    },
    {
      "cell_type": "code",
      "source": [
        "# from sklearn.decomposition import TruncatedSVD\n",
        "from numpy.linalg import norm\n",
        "\n",
        "from random import normalvariate\n",
        "from math import sqrt\n",
        "data = pd.read_excel('/content/gdrive/MyDrive/RS/Course Recommendation System(1-162).xlsx')\n",
        "\n",
        "data = data.fillna(0.5)\n",
        "\n",
        "X = data.drop(data.iloc[:, 0:6], axis=1) # Delete unnecessary columns\n",
        "X = X.to_numpy()\n",
        "\n",
        "u, s, vh = np.linalg.svd(X, full_matrices=False)\n",
        "print(np.allclose(X, np.dot(u * s, vh)))"
      ],
      "metadata": {
        "colab": {
          "base_uri": "https://localhost:8080/"
        },
        "id": "E8abOw6W2F49",
        "outputId": "a7e6a98a-cda2-486c-93e3-ce40ac923a8d"
      },
      "execution_count": 10,
      "outputs": [
        {
          "output_type": "stream",
          "name": "stdout",
          "text": [
            "True\n"
          ]
        }
      ]
    },
    {
      "cell_type": "code",
      "source": [
        "X"
      ],
      "metadata": {
        "colab": {
          "base_uri": "https://localhost:8080/"
        },
        "id": "JTmNviJP2r0U",
        "outputId": "8ae1abeb-6821-43f5-d321-9deb258598a8"
      },
      "execution_count": 11,
      "outputs": [
        {
          "output_type": "execute_result",
          "data": {
            "text/plain": [
              "array([[0.3 , 0.85, 0.85, ..., 0.5 , 0.5 , 0.5 ],\n",
              "       [0.7 , 0.8 , 0.2 , ..., 0.5 , 0.5 , 0.5 ],\n",
              "       [0.7 , 0.  , 1.  , ..., 0.5 , 0.5 , 0.5 ],\n",
              "       ...,\n",
              "       [0.6 , 0.3 , 0.4 , ..., 0.5 , 0.5 , 1.  ],\n",
              "       [0.8 , 0.6 , 0.2 , ..., 0.5 , 0.5 , 0.5 ],\n",
              "       [0.4 , 0.7 , 0.9 , ..., 0.5 , 0.5 , 0.5 ]])"
            ]
          },
          "metadata": {},
          "execution_count": 11
        }
      ]
    },
    {
      "cell_type": "code",
      "source": [
        "def gram_schmidt(A):\n",
        "    m, n = A.shape\n",
        "    Q = np.zeros((m, n))\n",
        "    R = np.zeros((n, n))\n",
        "\n",
        "    for j in range(n):\n",
        "        v = A[:, j]\n",
        "        for i in range(j):\n",
        "            R[i, j] = np.dot(Q[:, i], A[:, j])\n",
        "            v = v - R[i, j] * Q[:, i]\n",
        "        R[j, j] = np.linalg.norm(v)\n",
        "        Q[:, j] = v / R[j, j]\n",
        "\n",
        "    return Q, R\n",
        "\n",
        "# def qr_eigen(A, max_iter=1000, tol=1e-6):\n",
        "#     i = 0\n",
        "#     Q, R = gram_schmidt(A)\n",
        "\n",
        "#     while i < max_iter:\n",
        "#         A = np.dot(Q.T, np.dot(A, Q))\n",
        "\n",
        "#         if np.amax(np.abs(A)) < tol:\n",
        "#             break\n",
        "\n",
        "#         Q, R = gram_schmidt(A)\n",
        "#         i += 1\n",
        "\n",
        "#     eigvals = np.diag(A)\n",
        "#     eigvecs = Q\n",
        "\n",
        "#     return eigvals, eigvecs\n",
        "\n",
        "def qr_eigen(A, max_iter=1000, tol=1e-6):\n",
        "\n",
        "    for i in range(max_iter):\n",
        "        Q, R = gram_schmidt(A)\n",
        "        A = np.dot(R, Q)\n",
        "\n",
        "        if np.amax(np.abs(A)) < tol:\n",
        "            break\n",
        "\n",
        "    return np.diag(A), Q\n",
        "\n",
        "    # https://zerobone.net/blog/cs/gram-schmidt-orthogonalization/"
      ],
      "metadata": {
        "id": "OrWkSMkSQGyR"
      },
      "execution_count": 12,
      "outputs": []
    },
    {
      "cell_type": "code",
      "source": [
        "def svd(A):\n",
        "    m, n = A.shape\n",
        " \n",
        "    ATA = A.T.dot(A)\n",
        "    eigenvals, V = qr_eigen(ATA)\n",
        "\n",
        "    idx = eigenvals.argsort()[::-1]\n",
        "    V = V[:, idx]\n",
        "\n",
        "    singularvals = np.sqrt(eigenvals[idx])\n",
        "    S = np.zeros((m, n))\n",
        "    S[:min(m, n), :min(m, n)] = np.diag(singularvals)\n",
        "\n",
        "    U = np.zeros((m, m))\n",
        "    for i in range(min(m, n)):\n",
        "        if singularvals[i] != 0:\n",
        "            U[:, i] = A.dot(V[:, i]) / singularvals[i]\n",
        "    \n",
        "    if m >= n:\n",
        "        return U, S, V.T\n",
        "    else:\n",
        "        return V, S.T, U.T"
      ],
      "metadata": {
        "id": "6vASmbYLyFJR"
      },
      "execution_count": 13,
      "outputs": []
    },
    {
      "cell_type": "code",
      "source": [
        "u, s, vh=svd(X)"
      ],
      "metadata": {
        "id": "7iSzXh8cyRJs"
      },
      "execution_count": 14,
      "outputs": []
    },
    {
      "cell_type": "code",
      "source": [
        "print(u.shape, s.shape, vh.shape)"
      ],
      "metadata": {
        "colab": {
          "base_uri": "https://localhost:8080/"
        },
        "id": "px4QtOinyRFK",
        "outputId": "7ab250ec-e8d1-4559-84e3-346932c530c2"
      },
      "execution_count": 15,
      "outputs": [
        {
          "output_type": "stream",
          "name": "stdout",
          "text": [
            "(162, 162) (162, 25) (25, 25)\n"
          ]
        }
      ]
    },
    {
      "cell_type": "code",
      "source": [
        "print(np.allclose(X, np.dot(u @ s, vh)))"
      ],
      "metadata": {
        "colab": {
          "base_uri": "https://localhost:8080/"
        },
        "id": "DOdmeccEy-tq",
        "outputId": "24dc96ad-ec10-46cd-e744-2acc892566d5"
      },
      "execution_count": 16,
      "outputs": [
        {
          "output_type": "stream",
          "name": "stdout",
          "text": [
            "True\n"
          ]
        }
      ]
    },
    {
      "cell_type": "code",
      "source": [],
      "metadata": {
        "id": "Xk1vPab7QTJf"
      },
      "execution_count": null,
      "outputs": []
    }
  ],
  "metadata": {
    "kernelspec": {
      "display_name": "Python 3",
      "language": "python",
      "name": "python3"
    },
    "language_info": {
      "codemirror_mode": {
        "name": "ipython",
        "version": 3
      },
      "file_extension": ".py",
      "mimetype": "text/x-python",
      "name": "python",
      "nbconvert_exporter": "python",
      "pygments_lexer": "ipython3",
      "version": "3.8.10"
    },
    "orig_nbformat": 4,
    "vscode": {
      "interpreter": {
        "hash": "767d51c1340bd893661ea55ea3124f6de3c7a262a8b4abca0554b478b1e2ff90"
      }
    },
    "colab": {
      "provenance": [],
      "include_colab_link": true
    }
  },
  "nbformat": 4,
  "nbformat_minor": 0
}