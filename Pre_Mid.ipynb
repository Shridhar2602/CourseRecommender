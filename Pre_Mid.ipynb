{
  "cells": [
    {
      "cell_type": "markdown",
      "metadata": {
        "colab_type": "text",
        "id": "view-in-github"
      },
      "source": [
        "<a href=\"https://colab.research.google.com/github/Shridhar2602/RecSys/blob/main/Pre_Mid.ipynb\" target=\"_parent\"><img src=\"https://colab.research.google.com/assets/colab-badge.svg\" alt=\"Open In Colab\"/></a>"
      ]
    },
    {
      "cell_type": "code",
      "execution_count": null,
      "metadata": {
        "colab": {
          "base_uri": "https://localhost:8080/"
        },
        "id": "xEh2STklRsiY",
        "outputId": "fcb8e04b-25f3-4fe8-a8b8-2d161ce712ca"
      },
      "outputs": [],
      "source": [
        "from google.colab import drive\n",
        "\n",
        "drive.mount('/content/gdrive')"
      ]
    },
    {
      "cell_type": "markdown",
      "metadata": {
        "id": "qUDRyhsQRjoM"
      },
      "source": [
        "### Imports"
      ]
    },
    {
      "cell_type": "code",
      "execution_count": 29,
      "metadata": {
        "id": "ySDaaIL-RjoP"
      },
      "outputs": [],
      "source": [
        "import pandas as pd\n",
        "import numpy as np\n",
        "from sklearn.cluster import KMeans\n",
        "import matplotlib.pyplot as plt\n",
        "from sklearn.preprocessing import StandardScaler\n",
        "import math"
      ]
    },
    {
      "cell_type": "markdown",
      "metadata": {
        "id": "T17kS7rBRjoR"
      },
      "source": [
        "### Read Data and tweaks"
      ]
    },
    {
      "cell_type": "code",
      "execution_count": null,
      "metadata": {
        "colab": {
          "base_uri": "https://localhost:8080/"
        },
        "id": "71wZ0BZiRjoR",
        "outputId": "ce04430e-9055-4841-a050-e87aebcbb022"
      },
      "outputs": [],
      "source": [
        "DF = pd.read_excel('data/Course Recommendation System(1-162).xlsx')\n",
        "DF.drop(DF.iloc[:, 0:6], axis=1, inplace=True) # Delete unnecessary columns\n",
        "# DF.drop_duplicates(keep=False, inplace=True) # Remove duplicate rows\n",
        "len(DF)"
      ]
    },
    {
      "cell_type": "code",
      "execution_count": null,
      "metadata": {
        "colab": {
          "base_uri": "https://localhost:8080/",
          "height": 386
        },
        "id": "39eF_O7IRjoT",
        "outputId": "cf483b30-1784-4cfe-d7f3-656615cf00fe"
      },
      "outputs": [],
      "source": [
        "DF.head()"
      ]
    },
    {
      "cell_type": "code",
      "execution_count": null,
      "metadata": {
        "colab": {
          "base_uri": "https://localhost:8080/"
        },
        "id": "mmBStD0KTWcC",
        "outputId": "81c52388-0eb7-4fbb-f15a-0ee5e442f91c"
      },
      "outputs": [],
      "source": [
        "DF.dropna(inplace=True)\n",
        "\n",
        "len(DF)\n",
        "# DF.head()"
      ]
    },
    {
      "cell_type": "code",
      "execution_count": null,
      "metadata": {
        "id": "4Ur9BK0HUGWG"
      },
      "outputs": [],
      "source": [
        "# scaled_df = StandardScaler().fit_transform(DF)"
      ]
    },
    {
      "cell_type": "code",
      "execution_count": null,
      "metadata": {
        "colab": {
          "base_uri": "https://localhost:8080/",
          "height": 296
        },
        "id": "Rz23BpUgTbNn",
        "outputId": "0b11747a-f1b3-4cec-e35c-56cd6c5cc4fb"
      },
      "outputs": [],
      "source": [
        "#initialize kmeans parameters\n",
        "kmeans_kwargs = {\n",
        "\"init\": \"random\",\n",
        "\"n_init\": 10,\n",
        "\"random_state\": 1,\n",
        "}\n",
        "\n",
        "#create list to hold SSE values for each k\n",
        "sse = []\n",
        "for k in range(1, 21):\n",
        "    kmeans = KMeans(n_clusters=k, **kmeans_kwargs)\n",
        "    kmeans.fit(DF)\n",
        "    if(k == 5):\n",
        "      print(kmeans.inertia_)\n",
        "    sse.append(kmeans.inertia_)\n",
        "\n",
        "#visualize results\n",
        "plt.plot(range(1, 21), sse)\n",
        "plt.xticks(range(1, 21))\n",
        "plt.xlabel(\"Number of Clusters\")\n",
        "plt.ylabel(\"SSE\")\n",
        "plt.show()"
      ]
    },
    {
      "cell_type": "code",
      "execution_count": null,
      "metadata": {
        "colab": {
          "base_uri": "https://localhost:8080/",
          "height": 993
        },
        "id": "ge4pGqOlU5G3",
        "outputId": "bc675793-5153-4d40-ab1b-1ad81243c045"
      },
      "outputs": [],
      "source": [
        "from sklearn.metrics import silhouette_score\n",
        "\n",
        "sil = []\n",
        "kmax = 20\n",
        "\n",
        "# dissimilarity would not be defined for a single cluster, thus, minimum number of clusters should be 2\n",
        "for k in range(2, kmax+1):\n",
        "  kmeans = KMeans(n_clusters = k).fit(DF)\n",
        "  labels = kmeans.labels_\n",
        "  if(k == 5):\n",
        "    print(kmeans.labels_)\n",
        "  sil.append(silhouette_score(DF, labels, metric = 'euclidean'))\n",
        "\n",
        "plt.plot(range(2, 21), sil)\n",
        "plt.xticks(range(2, 21))\n",
        "plt.xlabel(\"Number of Clusters\")\n",
        "plt.ylabel(\"SIL\")\n",
        "plt.show()"
      ]
    },
    {
      "cell_type": "markdown",
      "metadata": {
        "id": "1WYriY2PWows"
      },
      "source": [
        "Optimal k feels like 5 since there is  a elbow in SSE and Silhoutee score has a peak"
      ]
    },
    {
      "cell_type": "code",
      "execution_count": null,
      "metadata": {
        "colab": {
          "base_uri": "https://localhost:8080/",
          "height": 236
        },
        "id": "qLZmJisRslwa",
        "outputId": "f11f9d2f-9aa3-48d3-9f76-26182f9b0425"
      },
      "outputs": [],
      "source": [
        "# Create a KMeans instance with k=3 clusters\n",
        "kmeans = my_KMeans(k=5)\n",
        "\n",
        "# Fit the model to the data\n",
        "kmeans.fit(DF)\n",
        "\n",
        "# Predict the cluster labels for the data points\n",
        "labels = kmeans.predict(DF)"
      ]
    },
    {
      "cell_type": "code",
      "execution_count": null,
      "metadata": {
        "id": "f_uijSVStEOJ"
      },
      "outputs": [],
      "source": [
        "print(labels)"
      ]
    },
    {
      "cell_type": "markdown",
      "metadata": {
        "id": "7RLC2nki1Qys"
      },
      "source": [
        "(128, 10)\n",
        "\n",
        "[1 3 1 3 4 1 2 3 1 1 1 1 1 1 1 1 2 1 3 1 3 1 3 0 1 1 3 2 2 4 3 0 2 0 3 2 1\n",
        " 1 4 1 3 0 0 1 3 1 1 3 0 3 3 1 2 1 1 4 2 3 1 1 0 3 1 3 2 3 3 3 2 1 3 3 3 1\n",
        " 0 2 3 1 3 1 3 3 4 1 2 1 3 1 3 4 2 2 1 3 2 0 1 1 3 3 4 2 0 1 4 2 2 0 2 3 1\n",
        " 2 3 3 0 1 1 1 2 2 4 1 1 2 1 2 1 3]"
      ]
    },
    {
      "cell_type": "markdown",
      "metadata": {
        "id": "INoTbbd245j_"
      },
      "source": [
        "[3 2 1 0 2 0 1 2 0 0 2 0 2 2 0 2 2 0 0 0 2 0 0 0 2 0 0 1 2 3 3 0 2 4 3 1 2\n",
        " 0 3 0 0 4 2 2 0 0 0 1 3 0 2 1 1 0 2 3 2 0 0 0 2 2 0 0 1 3 2 2 1 1 0 2 0 2\n",
        " 3 1 0 2 2 0 3 2 3 1 1 0 4 0 4 3 1 2 2 2 2 2 2 2 2 3 4 0 2 0 0 0 2 3 1 3 1\n",
        " 1 0 2 4 0 0 2 1 2 2 4 0 1 0 1 1 3]"
      ]
    },
    {
      "cell_type": "markdown",
      "metadata": {
        "id": "ugHG55-Iq0y5"
      },
      "source": [
        "[1 1 4 2 1 4 4 4 4 3 1 2 3 3 3 0 0 0 0 0 2 2 2 2 2]\n",
        "(25, 10)"
      ]
    },
    {
      "cell_type": "code",
      "execution_count": 30,
      "metadata": {
        "colab": {
          "base_uri": "https://localhost:8080/"
        },
        "id": "E8abOw6W2F49",
        "outputId": "a7e6a98a-cda2-486c-93e3-ce40ac923a8d"
      },
      "outputs": [
        {
          "name": "stdout",
          "output_type": "stream",
          "text": [
            "True\n"
          ]
        }
      ],
      "source": [
        "# from sklearn.decomposition import TruncatedSVD\n",
        "data = pd.read_excel('data/Course Recommendation System(1-162).xlsx')\n",
        "\n",
        "data = data.fillna(0.5)\n",
        "\n",
        "X = data.drop(data.iloc[:, 0:6], axis=1) # Delete unnecessary columns\n",
        "X = X.to_numpy()\n",
        "\n",
        "u, s, vh = np.linalg.svd(X, full_matrices=False)\n",
        "print(np.allclose(X, np.dot(u * s, vh)))"
      ]
    },
    {
      "cell_type": "code",
      "execution_count": 31,
      "metadata": {
        "colab": {
          "base_uri": "https://localhost:8080/"
        },
        "id": "JTmNviJP2r0U",
        "outputId": "8ae1abeb-6821-43f5-d321-9deb258598a8"
      },
      "outputs": [
        {
          "data": {
            "text/plain": [
              "array([[0.3 , 0.85, 0.85, ..., 0.5 , 0.5 , 0.5 ],\n",
              "       [0.7 , 0.8 , 0.2 , ..., 0.5 , 0.5 , 0.5 ],\n",
              "       [0.7 , 0.  , 1.  , ..., 0.5 , 0.5 , 0.5 ],\n",
              "       ...,\n",
              "       [0.6 , 0.3 , 0.4 , ..., 0.5 , 0.5 , 1.  ],\n",
              "       [0.8 , 0.6 , 0.2 , ..., 0.5 , 0.5 , 0.5 ],\n",
              "       [0.4 , 0.7 , 0.9 , ..., 0.5 , 0.5 , 0.5 ]])"
            ]
          },
          "execution_count": 31,
          "metadata": {},
          "output_type": "execute_result"
        }
      ],
      "source": [
        "X"
      ]
    },
    {
      "cell_type": "code",
      "execution_count": 32,
      "metadata": {
        "id": "OrWkSMkSQGyR"
      },
      "outputs": [
        {
          "name": "stdout",
          "output_type": "stream",
          "text": [
            "(162, 162) (162, 25) (25, 25)\n",
            "True\n"
          ]
        }
      ],
      "source": [
        "class SVD:\n",
        "    def __init__(self, A):\n",
        "        self.u, self.s, self.vh = self.svd(A)\n",
        "\n",
        "    def gram_schmidt(self, A):\n",
        "        m, n = A.shape\n",
        "        Q = np.zeros((m, n))\n",
        "        R = np.zeros((n, n))\n",
        "\n",
        "        for j in range(n):\n",
        "            v = A[:, j]\n",
        "            for i in range(j):\n",
        "                R[i, j] = np.dot(Q[:, i], A[:, j])\n",
        "                v = v - R[i, j] * Q[:, i]\n",
        "            R[j, j] = np.linalg.norm(v)\n",
        "            Q[:, j] = v / R[j, j]\n",
        "\n",
        "        return Q, R\n",
        "\n",
        "    def qr_eigen(self, A, max_iter=1000, tol=1e-6):\n",
        "\n",
        "        for _ in range(max_iter):\n",
        "            Q, R = self.gram_schmidt(A)\n",
        "            A = np.dot(R, Q)\n",
        "\n",
        "            if np.amax(np.abs(A)) < tol:\n",
        "                break\n",
        "\n",
        "        return np.diag(A), Q\n",
        "\n",
        "    def svd(self, A):\n",
        "        m, n = A.shape\n",
        "\n",
        "        ATA = A.T.dot(A)\n",
        "        eigenvals, V = self.qr_eigen(ATA)\n",
        "\n",
        "        idx = eigenvals.argsort()[::-1]\n",
        "        V = V[:, idx]\n",
        "\n",
        "        singularvals = np.sqrt(eigenvals[idx])\n",
        "        S = np.zeros((m, n))\n",
        "        S[:min(m, n), :min(m, n)] = np.diag(singularvals)\n",
        "\n",
        "        U = np.zeros((m, m))\n",
        "        for i in range(min(m, n)):\n",
        "            if singularvals[i] != 0:\n",
        "                U[:, i] = A.dot(V[:, i]) / singularvals[i]\n",
        "\n",
        "        if m >= n:\n",
        "            return U, S, V.T\n",
        "        else:\n",
        "            return V, S.T, U.T\n",
        "\n",
        "    def return_matrices(self):\n",
        "        return self.u, self.s, self.vh\n",
        "\n",
        "\n",
        "SVD = SVD(X)\n",
        "u, s, vh = SVD.return_matrices()\n",
        "print(u.shape, s.shape, vh.shape)\n",
        "print(np.allclose(X, np.dot(u @ s, vh)))\n"
      ]
    },
    {
      "cell_type": "code",
      "execution_count": null,
      "metadata": {
        "id": "Xk1vPab7QTJf"
      },
      "outputs": [],
      "source": []
    }
  ],
  "metadata": {
    "colab": {
      "include_colab_link": true,
      "provenance": []
    },
    "kernelspec": {
      "display_name": "Python 3",
      "language": "python",
      "name": "python3"
    },
    "language_info": {
      "codemirror_mode": {
        "name": "ipython",
        "version": 3
      },
      "file_extension": ".py",
      "mimetype": "text/x-python",
      "name": "python",
      "nbconvert_exporter": "python",
      "pygments_lexer": "ipython3",
      "version": "3.8.10"
    },
    "orig_nbformat": 4,
    "vscode": {
      "interpreter": {
        "hash": "767d51c1340bd893661ea55ea3124f6de3c7a262a8b4abca0554b478b1e2ff90"
      }
    }
  },
  "nbformat": 4,
  "nbformat_minor": 0
}
