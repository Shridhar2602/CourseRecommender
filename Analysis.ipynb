{
 "cells": [
  {
   "cell_type": "code",
   "execution_count": 350,
   "metadata": {},
   "outputs": [],
   "source": [
    "import pandas as pd\n",
    "import numpy as np\n",
    "from numpy.linalg import eig\n",
    "from sklearn.cluster import KMeans\n",
    "import matplotlib.pyplot as plt\n",
    "from sklearn.preprocessing import StandardScaler\n",
    "from kmeans import K_Means\n",
    "# from svd import SVD"
   ]
  },
  {
   "cell_type": "code",
   "execution_count": 351,
   "metadata": {},
   "outputs": [
    {
     "data": {
      "text/plain": [
       "['Data Structures and Algorithms',\n",
       " 'Computer Architecture\\n',\n",
       " 'Discrete Mathematics\\n',\n",
       " 'Economics',\n",
       " 'Programming-2']"
      ]
     },
     "execution_count": 351,
     "metadata": {},
     "output_type": "execute_result"
    }
   ],
   "source": [
    "data = pd.read_excel('data/Course Recommendation System(1-162).xlsx')\n",
    "data = data.drop(data.iloc[:, 0:6], axis=1) # Delete unnecessary columns\n",
    "data_core = data.iloc[:, :5]\n",
    "\n",
    "courses = list(data.columns)\n",
    "core_courses = list(data_core.columns)\n",
    "core_courses"
   ]
  },
  {
   "cell_type": "code",
   "execution_count": 352,
   "metadata": {},
   "outputs": [],
   "source": [
    "data = data.fillna(0.5)\n",
    "X = data.to_numpy()\n",
    "X_core = data_core.to_numpy()\n",
    "X_electives = X[:, 5:]"
   ]
  },
  {
   "attachments": {},
   "cell_type": "markdown",
   "metadata": {},
   "source": [
    "X_core contains our user vectors (ratings for each user in the core courses)"
   ]
  },
  {
   "cell_type": "code",
   "execution_count": 353,
   "metadata": {},
   "outputs": [],
   "source": [
    "# K-means on user vectors\n",
    "\n",
    "n_clusters = 5\n",
    "n_init = 10\n",
    "kmeans = K_Means(n_clusters, n_init)\n",
    "kmeans.fit(X_core, 100)\n",
    "kmeans.get_cluster_size()\n",
    "cluster_assignment = kmeans.c_assignment"
   ]
  },
  {
   "cell_type": "code",
   "execution_count": 354,
   "metadata": {},
   "outputs": [],
   "source": [
    "# X_comp = np.zeros((1, 25))\n",
    "\n",
    "# for i in range(0, n_clusters):\n",
    "#     temp = X_core[np.where(cluster_assignment == i)]\n",
    "#     mean = np.mean(X_electives[np.where(cluster_assignment == i)], axis=0)\n",
    "#     mean_repeated = np.repeat(mean.reshape(1, -1), temp.shape[0], axis=0)\n",
    "#     X_comp = np.vstack((X_comp, np.concatenate((temp, mean_repeated), axis=1)))\n",
    "    \n",
    "# X_comp = X_comp[1:, :]"
   ]
  },
  {
   "cell_type": "code",
   "execution_count": 355,
   "metadata": {},
   "outputs": [
    {
     "data": {
      "text/plain": [
       "(5, 25)"
      ]
     },
     "execution_count": 355,
     "metadata": {},
     "output_type": "execute_result"
    }
   ],
   "source": [
    "X_comp = np.zeros((1, 25))\n",
    "\n",
    "for i in range(n_clusters):\n",
    "    mean = np.mean(X[np.where(cluster_assignment == i)], axis=0).reshape(1, -1)\n",
    "    X_comp = np.vstack((X_comp, mean))\n",
    "    \n",
    "X_comp = X_comp[1:, :]\n",
    "X_comp.shape"
   ]
  },
  {
   "cell_type": "code",
   "execution_count": 356,
   "metadata": {},
   "outputs": [
    {
     "name": "stdout",
     "output_type": "stream",
     "text": [
      "(5, 5) (5,) (5, 25)\n"
     ]
    },
    {
     "data": {
      "text/plain": [
       "True"
      ]
     },
     "execution_count": 356,
     "metadata": {},
     "output_type": "execute_result"
    }
   ],
   "source": [
    "u, s, vh = np.linalg.svd(X_comp, full_matrices=False)\n",
    "print(u.shape, s.shape, vh.shape)\n",
    "np.allclose(X_comp, np.dot(u * s, vh))"
   ]
  },
  {
   "cell_type": "code",
   "execution_count": 357,
   "metadata": {},
   "outputs": [],
   "source": [
    "X_svd = np.dot(u * s, vh)"
   ]
  },
  {
   "cell_type": "code",
   "execution_count": 358,
   "metadata": {},
   "outputs": [
    {
     "data": {
      "text/plain": [
       "array([[0.935     , 0.89833333, 0.85633333, 0.23333333, 0.86166667,\n",
       "        0.84      , 0.765     , 0.54833333, 0.67      , 0.63333333,\n",
       "        0.58      , 0.46      , 0.56      , 0.51166667, 0.48666667,\n",
       "        0.43333333, 0.44666667, 0.39      , 0.42666667, 0.39      ,\n",
       "        0.32833333, 0.42533333, 0.39766667, 0.31833333, 0.50333333],\n",
       "       [0.7       , 0.145     , 0.34      , 0.8       , 0.845     ,\n",
       "        0.69      , 0.535     , 0.47      , 0.43      , 0.425     ,\n",
       "        0.605     , 0.5025    , 0.5       , 0.47      , 0.515     ,\n",
       "        0.385     , 0.38      , 0.395     , 0.38      , 0.385     ,\n",
       "        0.55      , 0.5775    , 0.54      , 0.55      , 0.63      ],\n",
       "       [0.75625   , 0.325     , 0.425     , 0.03958333, 0.8625    ,\n",
       "        0.83958333, 0.70416667, 0.59375   , 0.53083333, 0.59958333,\n",
       "        0.68125   , 0.33541667, 0.42291667, 0.63333333, 0.5625    ,\n",
       "        0.25416667, 0.1625    , 0.15416667, 0.2125    , 0.13333333,\n",
       "        0.21041667, 0.30416667, 0.31666667, 0.20833333, 0.37083333],\n",
       "       [0.67962963, 0.82592593, 0.18888889, 0.75555556, 0.74444444,\n",
       "        0.72592593, 0.59814815, 0.60555556, 0.50185185, 0.59259259,\n",
       "        0.62962963, 0.45962963, 0.55555556, 0.51481481, 0.51481481,\n",
       "        0.37037037, 0.42962963, 0.3962963 , 0.37777778, 0.35185185,\n",
       "        0.43703704, 0.5       , 0.48888889, 0.5       , 0.52962963],\n",
       "       [0.85157981, 0.81868852, 0.81839924, 0.85725456, 0.85570291,\n",
       "        0.75577955, 0.75987842, 0.65643578, 0.5430908 , 0.54512382,\n",
       "        0.60327869, 0.52252235, 0.61971447, 0.52540984, 0.58710698,\n",
       "        0.40688525, 0.41344262, 0.4104918 , 0.41229508, 0.40983607,\n",
       "        0.48934426, 0.50773217, 0.52622951, 0.56229508, 0.50737705]])"
      ]
     },
     "execution_count": 358,
     "metadata": {},
     "output_type": "execute_result"
    }
   ],
   "source": [
    "X_svd"
   ]
  },
  {
   "cell_type": "code",
   "execution_count": 359,
   "metadata": {},
   "outputs": [
    {
     "name": "stdout",
     "output_type": "stream",
     "text": [
      "Cluster -  1 \n",
      "\n",
      "[0.935      0.89833333 0.86166667 0.85633333 0.84      ]\n",
      "['Data Structures and Algorithms', 'Computer Architecture\\n', 'Programming-2', 'Discrete Mathematics\\n', 'Machine Learning\\n'] \n",
      "\n",
      "Cluster -  2 \n",
      "\n",
      "[0.845 0.8   0.7   0.69  0.63 ]\n",
      "['Programming-2', 'Economics', 'Data Structures and Algorithms', 'Machine Learning\\n', 'The Web and the Mind '] \n",
      "\n",
      "Cluster -  3 \n",
      "\n",
      "[0.8625     0.83958333 0.75625    0.70416667 0.68125   ]\n",
      "['Programming-2', 'Machine Learning\\n', 'Data Structures and Algorithms', 'Mathematics For Machine Learning\\n', 'Software Production Engineering\\n'] \n",
      "\n",
      "Cluster -  4 \n",
      "\n",
      "[0.82592593 0.75555556 0.74444444 0.72592593 0.67962963]\n",
      "['Computer Architecture\\n', 'Economics', 'Programming-2', 'Machine Learning\\n', 'Data Structures and Algorithms'] \n",
      "\n",
      "Cluster -  5 \n",
      "\n",
      "[0.85725456 0.85570291 0.85157981 0.81868852 0.81839924]\n",
      "['Economics', 'Programming-2', 'Data Structures and Algorithms', 'Computer Architecture\\n', 'Discrete Mathematics\\n'] \n",
      "\n"
     ]
    }
   ],
   "source": [
    "def get_predictions(n, X):\n",
    "\tfor i in range(X.shape[0]):\n",
    "\t\tind = np.argpartition(X[i, :], -n)[-n:]\n",
    "\t\tind = ind[np.argsort(X_svd[i, :][ind])]\n",
    "\t\tprint(\"Cluster - \", i + 1, \"\\n\")\n",
    "\t\tprint(X_svd[i, :][ind][::-1])\n",
    "\t\tprint([courses[i] for i in ind[::-1]], \"\\n\")\n",
    "\t\t\n",
    "\t\n",
    "get_predictions(5, X_svd)"
   ]
  },
  {
   "attachments": {},
   "cell_type": "markdown",
   "metadata": {},
   "source": [
    "### Manual SVD"
   ]
  },
  {
   "cell_type": "code",
   "execution_count": 360,
   "metadata": {},
   "outputs": [],
   "source": [
    "# def QR_Decomposition(A):\n",
    "#     n, m = A.shape # get the shape of A\n",
    "\n",
    "#     Q = np.empty((n, n)) # initialize matrix Q\n",
    "#     u = np.empty((n, n)) # initialize matrix u\n",
    "\n",
    "#     u[:, 0] = A[:, 0]\n",
    "#     Q[:, 0] = u[:, 0] / np.linalg.norm(u[:, 0])\n",
    "\n",
    "#     for i in range(1, n):\n",
    "\n",
    "#         u[:, i] = A[:, i]\n",
    "#         for j in range(i):\n",
    "#             u[:, i] -= (A[:, i] @ Q[:, j]) * Q[:, j] # get each u vector\n",
    "\n",
    "#         Q[:, i] = u[:, i] / np.linalg.norm(u[:, i]) # compute each e vetor\n",
    "\n",
    "#     R = np.zeros((n, m))\n",
    "#     for i in range(n):\n",
    "#         for j in range(i, m):\n",
    "#             R[i, j] = A[:, j] @ Q[:, i]\n",
    "\n",
    "#     return Q, R\n",
    "\n",
    "# def svd_simultaneous_power_iteration(A, k, epsilon=0.00001):\n",
    "#     n_orig, m_orig = A.shape\n",
    "#     if k is None:\n",
    "#         k=min(n_orig,m_orig)\n",
    "#     A_orig=A.copy()\n",
    "#     if n_orig > m_orig:\n",
    "#         A = A.T @ A\n",
    "#         n, m = A.shape\n",
    "#     elif n_orig < m_orig:\n",
    "#         A = A @ A.T\n",
    "#         n, m = A.shape\n",
    "#     else:\n",
    "#         n,m=n_orig, m_orig\n",
    "        \n",
    "#     Q = np.random.rand(n, k)\n",
    "#     # Q, _ = np.linalg.qr(Q)\n",
    "#     Q, _ = QR_Decomposition(Q)\n",
    "#     Q_prev = Q\n",
    "#     #this part does the block power iteration\n",
    "#     for i in range(1000):\n",
    "#         Z = A @ Q\n",
    "#         # Q, R = np.linalg.qr(Z)\n",
    "#         Q, R = QR_Decomposition(Z)\n",
    "#         err = ((Q - Q_prev) ** 2).sum()\n",
    "#         Q_prev = Q\n",
    "#         if err < epsilon:\n",
    "#             break\n",
    "            \n",
    "#     singular_values=np.sqrt(np.diag(R))\n",
    "#     # print(singular_values)\n",
    "#     # singular_values = singular_values[:-5]\n",
    "#     # print(singular_values)\n",
    "#     #deal with different shape input matrices\n",
    "#     if n_orig < m_orig: \n",
    "#         left_vecs=Q.T\n",
    "#         # left_vecs = left_vecs[:, :-5]\n",
    "#         print(left_vecs.shape)\n",
    "#         #use property Values @ V = U.T@A => V=inv(Values)@U.T@A\n",
    "#         right_vecs=np.linalg.inv(np.diag(singular_values))@left_vecs.T@A_orig\n",
    "#     elif n_orig==m_orig:\n",
    "#         left_vecs=Q.T\n",
    "#         print(left_vecs.shape)\n",
    "#         right_vecs=left_vecs\n",
    "#         singular_values=np.square(singular_values)\n",
    "#     else:\n",
    "#         right_vecs=Q.T\n",
    "#         # right_vecs = right_vecs[:-5, :]\n",
    "#         print(right_vecs.shape)\n",
    "#         #use property Values @ V = U.T@A => U=A@V@inv(Values)\n",
    "#         left_vecs=A_orig@ right_vecs.T @np.linalg.inv(np.diag(singular_values))\n",
    "\n",
    "#     print(left_vecs.shape)\n",
    "#     print(singular_values.shape)\n",
    "#     print(right_vecs.shape)\n",
    "#     return left_vecs, singular_values, right_vecs"
   ]
  },
  {
   "cell_type": "code",
   "execution_count": 361,
   "metadata": {},
   "outputs": [],
   "source": [
    "import numpy as np\n",
    "\n",
    "class SVD:\n",
    "    def __init__(self, A):\n",
    "        self.u, self.s, self.vh = self.svd(A)\n",
    "\n",
    "    def gram_schmidt(self, A):\n",
    "        m, n = A.shape\n",
    "        Q = np.zeros((m, n))\n",
    "        R = np.zeros((n, n))\n",
    "\n",
    "        for j in range(n):\n",
    "            v = A[:, j]\n",
    "            for i in range(j):\n",
    "                R[i, j] = np.dot(Q[:, i], A[:, j])\n",
    "                v = v - R[i, j] * Q[:, i]\n",
    "            R[j, j] = np.linalg.norm(v, ord=2)\n",
    "            Q[:, j] = v / R[j, j]\n",
    "\n",
    "        return Q, R\n",
    "\n",
    "    def eig(self, A, max_iter=1000, tol=1e-6):\n",
    "        for _ in range(max_iter):\n",
    "            Q, R = self.gram_schmidt(A)\n",
    "            A = np.dot(R, Q)\n",
    "            \n",
    "            if np.linalg.norm(A - np.diag(np.diag(A)), ord=2) < tol:\n",
    "                break\n",
    "\n",
    "        return np.diag(A), Q\n",
    "\n",
    "    def svd(self, A):\n",
    "        m, n = A.shape\n",
    "\n",
    "        if(m < n):\n",
    "            A = A.T\n",
    "            m, n = A.shape\n",
    "\n",
    "        ATA = A.T.dot(A)\n",
    "        eigenvals, V = eig(ATA)\n",
    "\n",
    "\n",
    "        idx = eigenvals.argsort()[::-1]\n",
    "        V = V[:, idx]\n",
    "\n",
    "        singularvals = np.sqrt(np.maximum(eigenvals[idx], 0))\n",
    "        S = np.zeros((m, n))\n",
    "        # print(singularvals.shape)\n",
    "        S[:min(m, n), :min(m, n)] = np.diag(singularvals)\n",
    "\n",
    "        U = np.zeros((m, m))\n",
    "        for i in range(min(m, n)):\n",
    "            if singularvals[i] != 0:\n",
    "                U[:, i] = A.dot(V[:, i]) / singularvals[i]\n",
    "\n",
    "        return V, S.T, U.T\n",
    "\n",
    "    def truncated_svd(self, A, k):\n",
    "        U, S, Vt = self.svd(A)\n",
    "\t\t\n",
    "        Uk = U[:, :k]\n",
    "        Sk = S[:k, :k]\n",
    "        Vtk = Vt[:k, :]\n",
    "\n",
    "        return Uk, Sk, Vtk\n",
    "\n",
    "    def return_matrices(self):\n",
    "        return self.u, self.s, self.vh\n",
    "\n",
    "    def return_trunc_matrices(self, A, k):\n",
    "        return self.truncated_svd(A, k)\n"
   ]
  },
  {
   "cell_type": "code",
   "execution_count": 362,
   "metadata": {},
   "outputs": [
    {
     "name": "stdout",
     "output_type": "stream",
     "text": [
      "(5, 5) (5, 25) (25, 25)\n",
      "True\n"
     ]
    }
   ],
   "source": [
    "SVD = SVD(X_comp)\n",
    "u, s, vh = SVD.return_matrices()\n",
    "print(u.shape, s.shape, vh.shape)\n",
    "print(np.allclose(X_comp, np.dot(u @ s, vh)))"
   ]
  },
  {
   "cell_type": "code",
   "execution_count": 363,
   "metadata": {},
   "outputs": [
    {
     "data": {
      "text/plain": [
       "array([[0.935     , 0.89833333, 0.85633333, 0.23333333, 0.86166667,\n",
       "        0.84      , 0.765     , 0.54833333, 0.67      , 0.63333333,\n",
       "        0.58      , 0.46      , 0.56      , 0.51166667, 0.48666667,\n",
       "        0.43333333, 0.44666667, 0.39      , 0.42666667, 0.39      ,\n",
       "        0.32833333, 0.42533333, 0.39766667, 0.31833333, 0.50333333],\n",
       "       [0.7       , 0.145     , 0.34      , 0.8       , 0.845     ,\n",
       "        0.69      , 0.535     , 0.47      , 0.43      , 0.425     ,\n",
       "        0.605     , 0.5025    , 0.5       , 0.47      , 0.515     ,\n",
       "        0.385     , 0.38      , 0.395     , 0.38      , 0.385     ,\n",
       "        0.55      , 0.5775    , 0.54      , 0.55      , 0.63      ],\n",
       "       [0.75625   , 0.325     , 0.425     , 0.03958333, 0.8625    ,\n",
       "        0.83958333, 0.70416667, 0.59375   , 0.53083333, 0.59958333,\n",
       "        0.68125   , 0.33541667, 0.42291667, 0.63333333, 0.5625    ,\n",
       "        0.25416667, 0.1625    , 0.15416667, 0.2125    , 0.13333333,\n",
       "        0.21041667, 0.30416667, 0.31666667, 0.20833333, 0.37083333],\n",
       "       [0.67962963, 0.82592593, 0.18888889, 0.75555556, 0.74444444,\n",
       "        0.72592593, 0.59814815, 0.60555556, 0.50185185, 0.59259259,\n",
       "        0.62962963, 0.45962963, 0.55555556, 0.51481481, 0.51481481,\n",
       "        0.37037037, 0.42962963, 0.3962963 , 0.37777778, 0.35185185,\n",
       "        0.43703704, 0.5       , 0.48888889, 0.5       , 0.52962963],\n",
       "       [0.85157981, 0.81868852, 0.81839924, 0.85725456, 0.85570291,\n",
       "        0.75577955, 0.75987842, 0.65643578, 0.5430908 , 0.54512382,\n",
       "        0.60327869, 0.52252235, 0.61971447, 0.52540984, 0.58710698,\n",
       "        0.40688525, 0.41344262, 0.4104918 , 0.41229508, 0.40983607,\n",
       "        0.48934426, 0.50773217, 0.52622951, 0.56229508, 0.50737705]])"
      ]
     },
     "execution_count": 363,
     "metadata": {},
     "output_type": "execute_result"
    }
   ],
   "source": [
    "X_comp"
   ]
  },
  {
   "cell_type": "code",
   "execution_count": 364,
   "metadata": {},
   "outputs": [
    {
     "data": {
      "text/plain": [
       "array([[0.935     , 0.89833333, 0.85633333, 0.23333333, 0.86166667,\n",
       "        0.84      , 0.765     , 0.54833333, 0.67      , 0.63333333,\n",
       "        0.58      , 0.46      , 0.56      , 0.51166667, 0.48666667,\n",
       "        0.43333333, 0.44666667, 0.39      , 0.42666667, 0.39      ,\n",
       "        0.32833333, 0.42533333, 0.39766667, 0.31833333, 0.50333333],\n",
       "       [0.7       , 0.145     , 0.34      , 0.8       , 0.845     ,\n",
       "        0.69      , 0.535     , 0.47      , 0.43      , 0.425     ,\n",
       "        0.605     , 0.5025    , 0.5       , 0.47      , 0.515     ,\n",
       "        0.385     , 0.38      , 0.395     , 0.38      , 0.385     ,\n",
       "        0.55      , 0.5775    , 0.54      , 0.55      , 0.63      ],\n",
       "       [0.75625   , 0.325     , 0.425     , 0.03958333, 0.8625    ,\n",
       "        0.83958333, 0.70416667, 0.59375   , 0.53083333, 0.59958333,\n",
       "        0.68125   , 0.33541667, 0.42291667, 0.63333333, 0.5625    ,\n",
       "        0.25416667, 0.1625    , 0.15416667, 0.2125    , 0.13333333,\n",
       "        0.21041667, 0.30416667, 0.31666667, 0.20833333, 0.37083333],\n",
       "       [0.67962963, 0.82592593, 0.18888889, 0.75555556, 0.74444444,\n",
       "        0.72592593, 0.59814815, 0.60555556, 0.50185185, 0.59259259,\n",
       "        0.62962963, 0.45962963, 0.55555556, 0.51481481, 0.51481481,\n",
       "        0.37037037, 0.42962963, 0.3962963 , 0.37777778, 0.35185185,\n",
       "        0.43703704, 0.5       , 0.48888889, 0.5       , 0.52962963],\n",
       "       [0.85157981, 0.81868852, 0.81839924, 0.85725456, 0.85570291,\n",
       "        0.75577955, 0.75987842, 0.65643578, 0.5430908 , 0.54512382,\n",
       "        0.60327869, 0.52252235, 0.61971447, 0.52540984, 0.58710698,\n",
       "        0.40688525, 0.41344262, 0.4104918 , 0.41229508, 0.40983607,\n",
       "        0.48934426, 0.50773217, 0.52622951, 0.56229508, 0.50737705]])"
      ]
     },
     "execution_count": 364,
     "metadata": {},
     "output_type": "execute_result"
    }
   ],
   "source": [
    "np.dot(u @ s, vh)"
   ]
  },
  {
   "cell_type": "code",
   "execution_count": 365,
   "metadata": {},
   "outputs": [
    {
     "name": "stdout",
     "output_type": "stream",
     "text": [
      "(5, 5) (5, 10) (10, 25)\n",
      "True\n"
     ]
    }
   ],
   "source": [
    "u, s, vh = SVD.return_trunc_matrices(X_comp, 10)\n",
    "print(u.shape, s.shape, vh.shape)\n",
    "print(np.allclose(X_comp, np.dot(u @ s, vh)))"
   ]
  },
  {
   "cell_type": "code",
   "execution_count": 366,
   "metadata": {},
   "outputs": [
    {
     "data": {
      "text/plain": [
       "array([[0.935     , 0.89833333, 0.85633333, 0.23333333, 0.86166667,\n",
       "        0.84      , 0.765     , 0.54833333, 0.67      , 0.63333333,\n",
       "        0.58      , 0.46      , 0.56      , 0.51166667, 0.48666667,\n",
       "        0.43333333, 0.44666667, 0.39      , 0.42666667, 0.39      ,\n",
       "        0.32833333, 0.42533333, 0.39766667, 0.31833333, 0.50333333],\n",
       "       [0.7       , 0.145     , 0.34      , 0.8       , 0.845     ,\n",
       "        0.69      , 0.535     , 0.47      , 0.43      , 0.425     ,\n",
       "        0.605     , 0.5025    , 0.5       , 0.47      , 0.515     ,\n",
       "        0.385     , 0.38      , 0.395     , 0.38      , 0.385     ,\n",
       "        0.55      , 0.5775    , 0.54      , 0.55      , 0.63      ],\n",
       "       [0.75625   , 0.325     , 0.425     , 0.03958333, 0.8625    ,\n",
       "        0.83958333, 0.70416667, 0.59375   , 0.53083333, 0.59958333,\n",
       "        0.68125   , 0.33541667, 0.42291667, 0.63333333, 0.5625    ,\n",
       "        0.25416667, 0.1625    , 0.15416667, 0.2125    , 0.13333333,\n",
       "        0.21041667, 0.30416667, 0.31666667, 0.20833333, 0.37083333],\n",
       "       [0.67962963, 0.82592593, 0.18888889, 0.75555556, 0.74444444,\n",
       "        0.72592593, 0.59814815, 0.60555556, 0.50185185, 0.59259259,\n",
       "        0.62962963, 0.45962963, 0.55555556, 0.51481481, 0.51481481,\n",
       "        0.37037037, 0.42962963, 0.3962963 , 0.37777778, 0.35185185,\n",
       "        0.43703704, 0.5       , 0.48888889, 0.5       , 0.52962963],\n",
       "       [0.85157981, 0.81868852, 0.81839924, 0.85725456, 0.85570291,\n",
       "        0.75577955, 0.75987842, 0.65643578, 0.5430908 , 0.54512382,\n",
       "        0.60327869, 0.52252235, 0.61971447, 0.52540984, 0.58710698,\n",
       "        0.40688525, 0.41344262, 0.4104918 , 0.41229508, 0.40983607,\n",
       "        0.48934426, 0.50773217, 0.52622951, 0.56229508, 0.50737705]])"
      ]
     },
     "execution_count": 366,
     "metadata": {},
     "output_type": "execute_result"
    }
   ],
   "source": [
    "np.dot(u @ s, vh)\n"
   ]
  },
  {
   "cell_type": "code",
   "execution_count": null,
   "metadata": {},
   "outputs": [],
   "source": []
  }
 ],
 "metadata": {
  "kernelspec": {
   "display_name": "Python 3",
   "language": "python",
   "name": "python3"
  },
  "language_info": {
   "codemirror_mode": {
    "name": "ipython",
    "version": 3
   },
   "file_extension": ".py",
   "mimetype": "text/x-python",
   "name": "python",
   "nbconvert_exporter": "python",
   "pygments_lexer": "ipython3",
   "version": "3.8.10"
  },
  "orig_nbformat": 4
 },
 "nbformat": 4,
 "nbformat_minor": 2
}
