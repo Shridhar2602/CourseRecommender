{
 "cells": [
  {
   "cell_type": "code",
   "execution_count": 1147,
   "metadata": {},
   "outputs": [],
   "source": [
    "import pandas as pd\n",
    "import numpy as np\n",
    "from numpy.linalg import eig\n",
    "from sklearn.cluster import KMeans\n",
    "import matplotlib.pyplot as plt\n",
    "from sklearn.preprocessing import StandardScaler\n",
    "from kmeans import K_Means\n",
    "from svd import SVD"
   ]
  },
  {
   "cell_type": "code",
   "execution_count": 1148,
   "metadata": {},
   "outputs": [],
   "source": [
    "data = pd.read_excel('data/Course Recommendation System(1-162).xlsx')\n",
    "data = data.drop(data.iloc[:, 0:6], axis=1) # Delete unnecessary columns\n",
    "data_core = data.iloc[:, :5]\n",
    "\n",
    "courses = list(data.columns)\n",
    "core_courses = list(data_core.columns)\n",
    "elective_courses = list(data.iloc[:, 5:].columns)"
   ]
  },
  {
   "cell_type": "code",
   "execution_count": 1149,
   "metadata": {},
   "outputs": [],
   "source": [
    "X_orig = data.to_numpy()\n",
    "X = data.fillna(0.5).to_numpy()\n",
    "\n",
    "from sklearn.model_selection import train_test_split\n",
    "X, X_test = train_test_split(X, test_size=0.1, random_state=42)"
   ]
  },
  {
   "cell_type": "code",
   "execution_count": 1150,
   "metadata": {},
   "outputs": [
    {
     "name": "stdout",
     "output_type": "stream",
     "text": [
      "[57.74880533 13.43357967 11.17623231 10.03351379  7.6078689 ]\n"
     ]
    }
   ],
   "source": [
    "Svd = SVD(X[:, :5])\n",
    "u, s, vh = Svd.return_trunc_matrices(X[:, :5], 1)\n",
    "print(Svd.singularvalues / Svd.singularvalues.sum() * 100)\n",
    "X_SVD = np.dot(u @ s, vh).T\n",
    "\n",
    "X_core = X_SVD[:, :5]\n",
    "X_electives = X_SVD[:, 5:]"
   ]
  },
  {
   "cell_type": "code",
   "execution_count": 1151,
   "metadata": {},
   "outputs": [
    {
     "data": {
      "text/plain": [
       "array([ 0.92266256,  0.02220077,  0.99853078, -0.01548958,  1.06753028])"
      ]
     },
     "execution_count": 1151,
     "metadata": {},
     "output_type": "execute_result"
    }
   ],
   "source": [
    "X_SVD[0]"
   ]
  },
  {
   "attachments": {},
   "cell_type": "markdown",
   "metadata": {},
   "source": [
    "X_core contains our user vectors (ratings for each user in the core courses)"
   ]
  },
  {
   "cell_type": "code",
   "execution_count": 1152,
   "metadata": {},
   "outputs": [],
   "source": [
    "# K-means on user vectors\n",
    "\n",
    "# Inertia = []\n",
    "\n",
    "# for i in range(2, 10):\n",
    "# \tkmeans = K_Means(i, 10)\n",
    "# \tkmeans.fit(X_core, 75)\n",
    "# \tInertia.append(kmeans.inertia)\n",
    "\n",
    "# plt.plot(range(2, 10), Inertia, 'o-')\n",
    "# plt.xticks(range(2, 10))\n",
    "# plt.title('The Elbow Method after SVD')\n",
    "# plt.xlabel('Number of clusters')\n",
    "# plt.ylabel('Inertia / Distortion')\n",
    "# plt.show()"
   ]
  },
  {
   "cell_type": "code",
   "execution_count": 1153,
   "metadata": {},
   "outputs": [],
   "source": [
    "import numpy as np\n",
    "from sklearn.decomposition import PCA\n",
    "\n",
    "def Pca(n):\n",
    "\tpca = PCA(n_components=n).fit(X_core)\n",
    "\n",
    "\tprint(pca.explained_variance_ratio_.cumsum())\n",
    "\tkmeans_reduced = pca.transform(X_core)\n",
    "\tkmeans_reduced.shape\n",
    "\t\n",
    "\tInertia = []\n",
    "\n",
    "\tfor i in range(2, 10):\n",
    "\t\tkmeans = K_Means(i, 10)\n",
    "\t\tkmeans.fit(kmeans_reduced, 75)\n",
    "\t\tInertia.append(kmeans.inertia)\n",
    "\n",
    "\tplt.plot(range(2, 10), Inertia, 'o-')\n",
    "\tplt.xticks(range(2, 10))\n",
    "\tplt.title(f'The Elbow Method (After PCA reduction to {n} dim)')\n",
    "\tplt.xlabel('Number of clusters')\n",
    "\tplt.ylabel('Inertia / Distortion')\n",
    "\tplt.show()\n",
    "\n",
    "# Pca(2)"
   ]
  },
  {
   "cell_type": "code",
   "execution_count": 1154,
   "metadata": {},
   "outputs": [],
   "source": [
    "# Pca(1)"
   ]
  },
  {
   "cell_type": "code",
   "execution_count": 1155,
   "metadata": {},
   "outputs": [],
   "source": [
    "n_clusters = 5\n",
    "n_init = 10\n",
    "kmeans = K_Means(n_clusters, n_init)\n",
    "kmeans.fit(X_core, 100)\n",
    "kmeans.get_cluster_size()\n",
    "cluster_assignment = kmeans.c_assignment"
   ]
  },
  {
   "cell_type": "code",
   "execution_count": 1156,
   "metadata": {},
   "outputs": [
    {
     "name": "stdout",
     "output_type": "stream",
     "text": [
      "[32.33321484  6.57938703  5.72337563  4.47422089  3.97622187  3.92795763\n",
      "  3.81449589  3.65787706  3.57702882  3.14607103  3.08641323  2.96856058\n",
      "  2.62062171  2.46174559  2.40757069  2.24070779  2.19681284  1.98018076\n",
      "  1.71800254  1.63800915  1.43733092  1.3109459   1.01693142  0.95852036\n",
      "  0.74779583]\n"
     ]
    }
   ],
   "source": [
    "Svd = SVD(X)\n",
    "u, s, vh = Svd.return_trunc_matrices(X, 1)\n",
    "print(Svd.singularvalues / Svd.singularvalues.sum() * 100)\n",
    "X_SVD = np.dot(u @ s, vh).T"
   ]
  },
  {
   "cell_type": "code",
   "execution_count": 1157,
   "metadata": {},
   "outputs": [
    {
     "data": {
      "text/plain": [
       "(5, 25)"
      ]
     },
     "execution_count": 1157,
     "metadata": {},
     "output_type": "execute_result"
    }
   ],
   "source": [
    "X_comp = np.zeros((1, 25))\n",
    "\n",
    "for i in range(n_clusters):\n",
    "    mean = np.mean(X_SVD[np.where(cluster_assignment == i)], axis=0).reshape(1, -1)\n",
    "    X_comp = np.vstack((X_comp, mean))\n",
    "    \n",
    "X_comp = X_comp[1:, :]\n",
    "X_comp.shape"
   ]
  },
  {
   "cell_type": "code",
   "execution_count": 1158,
   "metadata": {},
   "outputs": [
    {
     "name": "stdout",
     "output_type": "stream",
     "text": [
      "(5, 5) (5,) (5, 25)\n",
      "(5, 3) (3, 3) (3, 25)\n",
      "[70.76250606 12.30581148  7.28907378  6.48732841  3.15528027]\n"
     ]
    }
   ],
   "source": [
    "# numpy \n",
    "u, s, vh = np.linalg.svd(X_comp, full_matrices=False)\n",
    "print(u.shape, s.shape, vh.shape)\n",
    "np.allclose(X_comp, np.dot(u * s, vh))\n",
    "\n",
    "Svd = SVD(X_comp)\n",
    "u, s, vh = Svd.return_trunc_matrices(X_comp, 2)\n",
    "print(u.shape, s.shape, vh.shape)\n",
    "print(Svd.singularvalues / Svd.singularvalues.sum() * 100)\n",
    "\n",
    "X_svd = np.dot(u @ s, vh)"
   ]
  },
  {
   "cell_type": "code",
   "execution_count": 1159,
   "metadata": {},
   "outputs": [
    {
     "name": "stdout",
     "output_type": "stream",
     "text": [
      "Cluster -  1 \n",
      "\n",
      "[0.70158377 0.6776888  0.55777937 0.39482124 0.39178869]\n",
      "['Software Production Engineering\\n', 'Machine Learning\\n', 'Data Visualization\\n', 'Techno-economics of networks ', 'The Web and the Mind '] \n",
      "\n",
      "Cluster -  2 \n",
      "\n",
      "[0.71788537 0.68132063 0.52347331 0.3364262  0.15452981]\n",
      "['Software Production Engineering\\n', 'Machine Learning\\n', 'Cloud Computing\\n', 'The Web and the Mind ', 'Visual Recognition\\n'] \n",
      "\n",
      "Cluster -  3 \n",
      "\n",
      "[0.92817971 0.86677464 0.86376579 0.73679233 0.08792915]\n",
      "['Visual Recognition\\n', 'Machine Learning\\n', 'Reinforcement Learning', 'Mathematics For Machine Learning\\n', 'Natural Language Processing\\n'] \n",
      "\n",
      "Cluster -  4 \n",
      "\n",
      "[0.84921036 0.80766306 0.79771824 0.75861022 0.62326578]\n",
      "['Mathematics For Machine Learning\\n', 'Reinforcement Learning', 'Machine Learning\\n', 'Visual Recognition\\n', 'Data Visualization\\n'] \n",
      "\n",
      "Cluster -  5 \n",
      "\n",
      "[0.80366727 0.77134428 0.54380878 0.37766608 0.30266908]\n",
      "['Software Production Engineering\\n', 'Machine Learning\\n', 'Programming Languages\\n', 'Mathematics For Machine Learning\\n', 'Visual Recognition\\n'] \n",
      "\n"
     ]
    }
   ],
   "source": [
    "def get_predictions(n, X):\n",
    "\trecs = {}\n",
    "\tfor i in range(X.shape[0]):\n",
    "\t\tind = np.argpartition(X[i, :], -n)[-n:]\n",
    "\t\tind = ind[np.argsort(X_svd[i, :][ind])]\n",
    "\t\tprint(\"Cluster - \", i + 1, \"\\n\")\n",
    "\t\tprint(X_svd[i, :][ind][::-1])\n",
    "\t\tprint([elective_courses[i] for i in ind[::-1]], \"\\n\")\n",
    "\t\trecs[i] = [elective_courses[i] for i in ind[::-1]]\n",
    "\t\t# recs[i] = ind\n",
    "\n",
    "\treturn recs\n",
    "\n",
    "recommendations = get_predictions(5, X_svd[:, 5:])"
   ]
  },
  {
   "cell_type": "code",
   "execution_count": 1160,
   "metadata": {},
   "outputs": [
    {
     "data": {
      "text/plain": [
       "{0: ['Software Production Engineering\\n',\n",
       "  'Machine Learning\\n',\n",
       "  'Data Visualization\\n',\n",
       "  'Techno-economics of networks ',\n",
       "  'The Web and the Mind '],\n",
       " 1: ['Software Production Engineering\\n',\n",
       "  'Machine Learning\\n',\n",
       "  'Cloud Computing\\n',\n",
       "  'The Web and the Mind ',\n",
       "  'Visual Recognition\\n'],\n",
       " 2: ['Visual Recognition\\n',\n",
       "  'Machine Learning\\n',\n",
       "  'Reinforcement Learning',\n",
       "  'Mathematics For Machine Learning\\n',\n",
       "  'Natural Language Processing\\n'],\n",
       " 3: ['Mathematics For Machine Learning\\n',\n",
       "  'Reinforcement Learning',\n",
       "  'Machine Learning\\n',\n",
       "  'Visual Recognition\\n',\n",
       "  'Data Visualization\\n'],\n",
       " 4: ['Software Production Engineering\\n',\n",
       "  'Machine Learning\\n',\n",
       "  'Programming Languages\\n',\n",
       "  'Mathematics For Machine Learning\\n',\n",
       "  'Visual Recognition\\n']}"
      ]
     },
     "execution_count": 1160,
     "metadata": {},
     "output_type": "execute_result"
    }
   ],
   "source": [
    "recommendations"
   ]
  },
  {
   "cell_type": "code",
   "execution_count": 1161,
   "metadata": {},
   "outputs": [],
   "source": [
    "def get_mse(x, x_pred):\n",
    "\n",
    "\tmse = 0\n",
    "\tfor p in x:\n",
    "\t\tc = kmeans.find_cluster(kmeans.clusters, p[:5])\n",
    "\t\tpredictions = x_pred[c]\n",
    "\n",
    "\t\ttemp = 0\n",
    "\t\tcount = 0\n",
    "\t\tfor i in range(p.shape[0]):\n",
    "\t\t\tif not np.isnan(p[i]): \n",
    "\t\t\t\tcount += 1\n",
    "\t\t\t\ttemp += ((p[i] - predictions[i])**2)\n",
    "\t\t\t\t\n",
    "\t\tmse += (temp / count)\n",
    "\treturn mse / x.shape[0]\n",
    "\t\t\n",
    "# get_mse(X_orig, X_svd)"
   ]
  },
  {
   "cell_type": "code",
   "execution_count": 1166,
   "metadata": {},
   "outputs": [
    {
     "name": "stdout",
     "output_type": "stream",
     "text": [
      "[0.09082576039441805, 0.09175247411408359, 0.09474361367135259, 0.10046747683495111, 0.11006791377000835]\n"
     ]
    }
   ],
   "source": [
    "mse = []\n",
    "\n",
    "for i in range(n_clusters):\n",
    "\tSvd = SVD(X_comp)\n",
    "\tu, s, vh = Svd.return_trunc_matrices(X_comp, i)\n",
    "\n",
    "\tX_svd = np.dot(u @ s, vh)\n",
    "\tmse.append(get_mse(X_orig, X_svd))\n",
    "print(mse)"
   ]
  },
  {
   "cell_type": "code",
   "execution_count": 1170,
   "metadata": {},
   "outputs": [
    {
     "data": {
      "image/png": "[encoded data removed]",
      "text/plain": [
       "<Figure size 432x288 with 1 Axes>"
      ]
     },
     "metadata": {
      "needs_background": "light"
     },
     "output_type": "display_data"
    }
   ],
   "source": [
    "plt.plot(range(5), mse, 'o-')\n",
    "plt.xticks(range(5))\n",
    "plt.title(f'MSE on removing singular values')\n",
    "plt.xlabel('num of singular values removed')\n",
    "plt.ylabel('MSE')\n",
    "plt.show()"
   ]
  },
  {
   "cell_type": "code",
   "execution_count": 1163,
   "metadata": {},
   "outputs": [],
   "source": [
    "def get_recommendations(p):\n",
    "    c = kmeans.find_cluster(kmeans.clusters, p)\n",
    "    return recommendations[c]"
   ]
  },
  {
   "cell_type": "code",
   "execution_count": 1110,
   "metadata": {},
   "outputs": [],
   "source": [
    "def get_accuracy(n, X, X_pred):\n",
    "\ttemp = []\n",
    "\tacc = 0\n",
    "\tfor i in range(X.shape[0]):\n",
    "\n",
    "\t\tpred = get_recommendations(X_core[i])\n",
    "\t\t\n",
    "\t\tind = np.argpartition(X[i, :], -n)[-n:]\n",
    "\t\tind = ind[np.argsort(X[i, :][ind])]\n",
    "\t\ttrue = [elective_courses[i] for i in ind[::-1]]\n",
    "\n",
    "\t\t# print(pred, true)\n",
    "\t\tfor i in pred:\n",
    "\t\t\tfor j in true:\n",
    "\t\t\t\tif i == j:\n",
    "\t\t\t\t\tacc += 1\n",
    "\tprint(acc)\n",
    "\treturn  (acc / (5 * X.shape[0])) * 100\n",
    "\n",
    "# get_accuracy(5, X_SVD[:, 5:], X_svd[:, 5:])"
   ]
  },
  {
   "cell_type": "code",
   "execution_count": 1111,
   "metadata": {},
   "outputs": [],
   "source": [
    "def K_vs_Accuracy(k):\n",
    "\n",
    "\tSvd = SVD(X[:, :5])\n",
    "\tu, s, vh = Svd.return_trunc_matrices(X, 1)\n",
    "\tX_SVD = np.dot(u @ s, vh).T\n",
    "\tX_core = X_SVD[:, :5]\n",
    "\tX_electives = X_SVD[:, 5:]\n",
    "\t\n",
    "\tn_clusters = k\n",
    "\tn_init = 10\n",
    "\tkmeans = K_Means(n_clusters, n_init)\n",
    "\tkmeans.fit(X_core, 100)\n",
    "\tkmeans.get_cluster_size()\n",
    "\tcluster_assignment = kmeans.c_assignment\n",
    "\n",
    "\t# Svd = SVD(X)\n",
    "\t# u, s, vh = Svd.return_trunc_matrices(X, 1)\n",
    "\t# X_SVD = np.dot(u @ s, vh).T\n",
    "\n",
    "\tX_comp = np.zeros((1, 25))\n",
    "\tfor i in range(n_clusters):\n",
    "\t\tmean = np.mean(X_SVD[np.where(cluster_assignment == i)], axis=0).reshape(1, -1)\n",
    "\t\tX_comp = np.vstack((X_comp, mean))\n",
    "\n",
    "\tX_comp = X_comp[1:, :]\n",
    "\n",
    "\tnum_elect = 5\n",
    "\tacc_percent = []\n",
    "\tfor i in range(k):\n",
    "\t\tSvd = SVD(X_comp)\n",
    "\t\tu, s, vh = Svd.return_trunc_matrices(X_comp, i)\n",
    "\t\tprint(Svd.singularvalues)\n",
    "\t\tX_svd = np.dot(u @ s, vh)\n",
    "\t\t\n",
    "\t\trecs = {}\n",
    "\t\tfor i in range(X_svd[:, 5:].shape[0]):\n",
    "\t\t\tind = np.argpartition(X_svd[:, 5:][i, :], -num_elect)[-num_elect:]\n",
    "\t\t\tind = ind[np.argsort(X_svd[i, :][ind])]\n",
    "\t\t\trecs[i] = [elective_courses[i] for i in ind[::-1]]\n",
    "\t\tprint(recs)\n",
    "\n",
    "\t\tacc = 0\n",
    "\t\tfor i in range(X_SVD.shape[0]):\n",
    "\n",
    "\t\t\tpred = recs[kmeans.find_cluster(kmeans.clusters, X_SVD[i, :5])]\n",
    "\n",
    "\t\t\tind = np.argpartition(X_SVD[i, 5:], -num_elect)[-num_elect:]\n",
    "\t\t\tind = ind[np.argsort(X_SVD[i, 5:][ind])]\n",
    "\t\t\ttrue = [elective_courses[i] for i in ind[::-1]]\n",
    "\n",
    "\t\t\tfor i in pred:\n",
    "\t\t\t\tfor j in true:\n",
    "\t\t\t\t\tif i == j:\n",
    "\t\t\t\t\t\tacc += 1\n",
    "\t\t\t# print(acc)\n",
    "\t\tacc_percent.append((acc / (num_elect * X_SVD.shape[0])) * 100)\n",
    "\treturn  acc_percent"
   ]
  },
  {
   "cell_type": "code",
   "execution_count": 1112,
   "metadata": {},
   "outputs": [],
   "source": [
    "# result = []\n",
    "\n",
    "# for i in range(2, 9):\n",
    "#     result.append(K_vs_Accuracy(i))"
   ]
  },
  {
   "cell_type": "code",
   "execution_count": 1126,
   "metadata": {},
   "outputs": [],
   "source": [
    "# plt.plot(range(0, 5), temp, 'o-')\n",
    "# plt.xticks(range(0, 5))\n",
    "# plt.title(f'Accuracy vs Number of Singular Values Removed')\n",
    "# plt.xlabel('Num of singular values')\n",
    "# plt.ylabel('Accuracy')\n",
    "# plt.show()"
   ]
  },
  {
   "attachments": {},
   "cell_type": "markdown",
   "metadata": {},
   "source": [
    "### Real Time Inference"
   ]
  },
  {
   "cell_type": "code",
   "execution_count": 1129,
   "metadata": {},
   "outputs": [
    {
     "data": {
      "text/plain": [
       "['Software Production Engineering\\n',\n",
       " 'Machine Learning\\n',\n",
       " 'Visual Recognition\\n',\n",
       " 'The Web and the Mind ',\n",
       " 'Mathematics For Machine Learning\\n']"
      ]
     },
     "execution_count": 1129,
     "metadata": {},
     "output_type": "execute_result"
    }
   ],
   "source": [
    "datapoint = [\n",
    "\t\t0.8,\t\t# Data Structures and Algorithms\n",
    " \t\t0.3,\t\t# Computer Architecture\n",
    " \t\t0.6,\t\t# Discrete Mathematics\n",
    " \t\t0.9,\t\t# Economics\n",
    " \t\t0.8,\t\t# Programming-2\n",
    "]\n",
    "\n",
    "get_recommendations(datapoint)"
   ]
  }
 ],
 "metadata": {
  "kernelspec": {
   "display_name": "Python 3",
   "language": "python",
   "name": "python3"
  },
  "language_info": {
   "codemirror_mode": {
    "name": "ipython",
    "version": 3
   },
   "file_extension": ".py",
   "mimetype": "text/x-python",
   "name": "python",
   "nbconvert_exporter": "python",
   "pygments_lexer": "ipython3",
   "version": "3.8.10"
  },
  "orig_nbformat": 4
 },
 "nbformat": 4,
 "nbformat_minor": 2
}
