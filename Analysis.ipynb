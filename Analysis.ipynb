{
 "cells": [
  {
   "cell_type": "code",
   "execution_count": 1,
   "metadata": {},
   "outputs": [],
   "source": [
    "import pandas as pd\n",
    "import numpy as np\n",
    "from sklearn.cluster import KMeans\n",
    "import matplotlib.pyplot as plt\n",
    "from sklearn.preprocessing import StandardScaler\n",
    "from kmeans import K_Means\n",
    "# from svd import SVD"
   ]
  },
  {
   "cell_type": "code",
   "execution_count": 2,
   "metadata": {},
   "outputs": [
    {
     "data": {
      "text/plain": [
       "['Data Structures and Algorithms',\n",
       " 'Computer Architecture\\n',\n",
       " 'Discrete Mathematics\\n',\n",
       " 'Economics',\n",
       " 'Programming-2']"
      ]
     },
     "execution_count": 2,
     "metadata": {},
     "output_type": "execute_result"
    }
   ],
   "source": [
    "data = pd.read_excel('data/Course Recommendation System(1-162).xlsx')\n",
    "data = data.drop(data.iloc[:, 0:6], axis=1) # Delete unnecessary columns\n",
    "data_core = data.iloc[:, :5]\n",
    "\n",
    "courses = list(data.columns)\n",
    "core_courses = list(data_core.columns)\n",
    "core_courses"
   ]
  },
  {
   "cell_type": "code",
   "execution_count": 3,
   "metadata": {},
   "outputs": [],
   "source": [
    "data = data.fillna(0.5)\n",
    "X = data.to_numpy()\n",
    "X_core = data_core.to_numpy()\n",
    "X_electives = X[:, 5:]"
   ]
  },
  {
   "attachments": {},
   "cell_type": "markdown",
   "metadata": {},
   "source": [
    "X_core contains our user vectors (ratings for each user in the core courses)"
   ]
  },
  {
   "cell_type": "code",
   "execution_count": 4,
   "metadata": {},
   "outputs": [],
   "source": [
    "# K-means on user vectors\n",
    "\n",
    "n_clusters = 5\n",
    "n_init = 10\n",
    "kmeans = K_Means(n_clusters, n_init)\n",
    "kmeans.fit(X_core, 100)\n",
    "kmeans.get_cluster_size()\n",
    "cluster_assignment = kmeans.c_assignment"
   ]
  },
  {
   "cell_type": "code",
   "execution_count": 5,
   "metadata": {},
   "outputs": [],
   "source": [
    "# X_comp = np.zeros((1, 25))\n",
    "\n",
    "# for i in range(0, n_clusters):\n",
    "#     temp = X_core[np.where(cluster_assignment == i)]\n",
    "#     mean = np.mean(X_electives[np.where(cluster_assignment == i)], axis=0)\n",
    "#     mean_repeated = np.repeat(mean.reshape(1, -1), temp.shape[0], axis=0)\n",
    "#     X_comp = np.vstack((X_comp, np.concatenate((temp, mean_repeated), axis=1)))\n",
    "    \n",
    "# X_comp = X_comp[1:, :]"
   ]
  },
  {
   "cell_type": "code",
   "execution_count": 120,
   "metadata": {},
   "outputs": [
    {
     "data": {
      "text/plain": [
       "(5, 25)"
      ]
     },
     "execution_count": 120,
     "metadata": {},
     "output_type": "execute_result"
    }
   ],
   "source": [
    "X_comp = np.zeros((1, 25))\n",
    "\n",
    "for i in range(n_clusters):\n",
    "    mean = np.mean(X[np.where(cluster_assignment == i)], axis=0).reshape(1, -1)\n",
    "    X_comp = np.vstack((X_comp, mean))\n",
    "    \n",
    "X_comp = X_comp[1:, :]\n",
    "X_comp.shape"
   ]
  },
  {
   "cell_type": "code",
   "execution_count": 121,
   "metadata": {},
   "outputs": [
    {
     "name": "stdout",
     "output_type": "stream",
     "text": [
      "(5, 5) (5,) (5, 25)\n"
     ]
    },
    {
     "data": {
      "text/plain": [
       "True"
      ]
     },
     "execution_count": 121,
     "metadata": {},
     "output_type": "execute_result"
    }
   ],
   "source": [
    "u, s, vh = np.linalg.svd(X_comp, full_matrices=False)\n",
    "print(u.shape, s.shape, vh.shape)\n",
    "np.allclose(X_comp, np.dot(u * s, vh))"
   ]
  },
  {
   "cell_type": "code",
   "execution_count": 123,
   "metadata": {},
   "outputs": [],
   "source": [
    "X_svd = np.dot(u * s, vh)"
   ]
  },
  {
   "cell_type": "code",
   "execution_count": 155,
   "metadata": {},
   "outputs": [
    {
     "data": {
      "text/plain": [
       "array([[0.8375    , 0.68035714, 0.90678571, 0.10535714, 0.83392857,\n",
       "        0.87142857, 0.83928571, 0.58571429, 0.65357143, 0.63571429,\n",
       "        0.58571429, 0.37857143, 0.525     , 0.51785714, 0.48214286,\n",
       "        0.35714286, 0.32142857, 0.30357143, 0.33928571, 0.26785714,\n",
       "        0.25178571, 0.42857143, 0.36428571, 0.25      , 0.5125    ],\n",
       "       [0.8525    , 0.465     , 0.185     , 0.09      , 0.87      ,\n",
       "        0.7625    , 0.59      , 0.5025    , 0.522     , 0.5795    ,\n",
       "        0.7075    , 0.3875    , 0.3975    , 0.61      , 0.56      ,\n",
       "        0.28      , 0.22      , 0.21      , 0.23      , 0.185     ,\n",
       "        0.275     , 0.31      , 0.345     , 0.275     , 0.39      ],\n",
       "       [0.85803483, 0.82705882, 0.82679932, 0.80430189, 0.86320408,\n",
       "        0.76621401, 0.75739093, 0.65724386, 0.54747851, 0.55812578,\n",
       "        0.59852941, 0.53196858, 0.61474387, 0.55882353, 0.59137538,\n",
       "        0.41647059, 0.42823529, 0.40794118, 0.42573529, 0.42205882,\n",
       "        0.47352941, 0.47252445, 0.50779412, 0.52720588, 0.49264706],\n",
       "       [0.686     , 0.876     , 0.208     , 0.824     , 0.756     ,\n",
       "        0.74      , 0.59      , 0.618     , 0.53      , 0.596     ,\n",
       "        0.644     , 0.4484    , 0.596     , 0.456     , 0.496     ,\n",
       "        0.388     , 0.448     , 0.416     , 0.396     , 0.368     ,\n",
       "        0.452     , 0.548     , 0.512     , 0.536     , 0.52      ],\n",
       "       [0.69047619, 0.16190476, 0.34285714, 0.79047619, 0.82857143,\n",
       "        0.6952381 , 0.54761905, 0.47142857, 0.42380952, 0.42380952,\n",
       "        0.58571429, 0.49761905, 0.4952381 , 0.46666667, 0.51428571,\n",
       "        0.38095238, 0.38095238, 0.39047619, 0.37619048, 0.38095238,\n",
       "        0.54761905, 0.57380952, 0.53333333, 0.55238095, 0.62857143]])"
      ]
     },
     "execution_count": 155,
     "metadata": {},
     "output_type": "execute_result"
    }
   ],
   "source": [
    "X_svd"
   ]
  },
  {
   "cell_type": "code",
   "execution_count": 208,
   "metadata": {},
   "outputs": [
    {
     "name": "stdout",
     "output_type": "stream",
     "text": [
      "Cluster -  1 \n",
      "\n",
      "[0.90678571 0.87142857 0.83928571 0.8375     0.83392857]\n",
      "['Discrete Mathematics\\n', 'Machine Learning\\n', 'Mathematics For Machine Learning\\n', 'Data Structures and Algorithms', 'Programming-2'] \n",
      "\n",
      "Cluster -  2 \n",
      "\n",
      "[0.87   0.8525 0.7625 0.7075 0.61  ]\n",
      "['Programming-2', 'Data Structures and Algorithms', 'Machine Learning\\n', 'Software Production Engineering\\n', 'Programming Languages\\n'] \n",
      "\n",
      "Cluster -  3 \n",
      "\n",
      "[0.86320408 0.85803483 0.82705882 0.82679932 0.80430189]\n",
      "['Programming-2', 'Data Structures and Algorithms', 'Computer Architecture\\n', 'Discrete Mathematics\\n', 'Economics'] \n",
      "\n",
      "Cluster -  4 \n",
      "\n",
      "[0.876 0.824 0.756 0.74  0.686]\n",
      "['Computer Architecture\\n', 'Economics', 'Programming-2', 'Machine Learning\\n', 'Data Structures and Algorithms'] \n",
      "\n",
      "Cluster -  5 \n",
      "\n",
      "[0.82857143 0.79047619 0.6952381  0.69047619 0.62857143]\n",
      "['Programming-2', 'Economics', 'Machine Learning\\n', 'Data Structures and Algorithms', 'The Web and the Mind '] \n",
      "\n"
     ]
    }
   ],
   "source": [
    "def get_predictions(n, X):\n",
    "\tfor i in range(X.shape[0]):\n",
    "\t\tind = np.argpartition(X[i, :], -n)[-n:]\n",
    "\t\tind = ind[np.argsort(X_svd[i, :][ind])]\n",
    "\t\tprint(\"Cluster - \", i + 1, \"\\n\")\n",
    "\t\tprint(X_svd[i, :][ind][::-1])\n",
    "\t\tprint([courses[i] for i in ind[::-1]], \"\\n\")\n",
    "\t\t\n",
    "\t\n",
    "get_predictions(5, X_svd)"
   ]
  },
  {
   "attachments": {},
   "cell_type": "markdown",
   "metadata": {},
   "source": [
    "### Manual SVD"
   ]
  },
  {
   "cell_type": "code",
   "execution_count": null,
   "metadata": {},
   "outputs": [],
   "source": [
    "# def QR_Decomposition(A):\n",
    "#     n, m = A.shape # get the shape of A\n",
    "\n",
    "#     Q = np.empty((n, n)) # initialize matrix Q\n",
    "#     u = np.empty((n, n)) # initialize matrix u\n",
    "\n",
    "#     u[:, 0] = A[:, 0]\n",
    "#     Q[:, 0] = u[:, 0] / np.linalg.norm(u[:, 0])\n",
    "\n",
    "#     for i in range(1, n):\n",
    "\n",
    "#         u[:, i] = A[:, i]\n",
    "#         for j in range(i):\n",
    "#             u[:, i] -= (A[:, i] @ Q[:, j]) * Q[:, j] # get each u vector\n",
    "\n",
    "#         Q[:, i] = u[:, i] / np.linalg.norm(u[:, i]) # compute each e vetor\n",
    "\n",
    "#     R = np.zeros((n, m))\n",
    "#     for i in range(n):\n",
    "#         for j in range(i, m):\n",
    "#             R[i, j] = A[:, j] @ Q[:, i]\n",
    "\n",
    "#     return Q, R\n",
    "\n",
    "# def svd_simultaneous_power_iteration(A, k, epsilon=0.00001):\n",
    "#     n_orig, m_orig = A.shape\n",
    "#     if k is None:\n",
    "#         k=min(n_orig,m_orig)\n",
    "#     A_orig=A.copy()\n",
    "#     if n_orig > m_orig:\n",
    "#         A = A.T @ A\n",
    "#         n, m = A.shape\n",
    "#     elif n_orig < m_orig:\n",
    "#         A = A @ A.T\n",
    "#         n, m = A.shape\n",
    "#     else:\n",
    "#         n,m=n_orig, m_orig\n",
    "        \n",
    "#     Q = np.random.rand(n, k)\n",
    "#     # Q, _ = np.linalg.qr(Q)\n",
    "#     Q, _ = QR_Decomposition(Q)\n",
    "#     Q_prev = Q\n",
    "#     #this part does the block power iteration\n",
    "#     for i in range(1000):\n",
    "#         Z = A @ Q\n",
    "#         # Q, R = np.linalg.qr(Z)\n",
    "#         Q, R = QR_Decomposition(Z)\n",
    "#         err = ((Q - Q_prev) ** 2).sum()\n",
    "#         Q_prev = Q\n",
    "#         if err < epsilon:\n",
    "#             break\n",
    "            \n",
    "#     singular_values=np.sqrt(np.diag(R))\n",
    "#     # print(singular_values)\n",
    "#     # singular_values = singular_values[:-5]\n",
    "#     # print(singular_values)\n",
    "#     #deal with different shape input matrices\n",
    "#     if n_orig < m_orig: \n",
    "#         left_vecs=Q.T\n",
    "#         # left_vecs = left_vecs[:, :-5]\n",
    "#         print(left_vecs.shape)\n",
    "#         #use property Values @ V = U.T@A => V=inv(Values)@U.T@A\n",
    "#         right_vecs=np.linalg.inv(np.diag(singular_values))@left_vecs.T@A_orig\n",
    "#     elif n_orig==m_orig:\n",
    "#         left_vecs=Q.T\n",
    "#         print(left_vecs.shape)\n",
    "#         right_vecs=left_vecs\n",
    "#         singular_values=np.square(singular_values)\n",
    "#     else:\n",
    "#         right_vecs=Q.T\n",
    "#         # right_vecs = right_vecs[:-5, :]\n",
    "#         print(right_vecs.shape)\n",
    "#         #use property Values @ V = U.T@A => U=A@V@inv(Values)\n",
    "#         left_vecs=A_orig@ right_vecs.T @np.linalg.inv(np.diag(singular_values))\n",
    "\n",
    "#     print(left_vecs.shape)\n",
    "#     print(singular_values.shape)\n",
    "#     print(right_vecs.shape)\n",
    "#     return left_vecs, singular_values, right_vecs"
   ]
  },
  {
   "cell_type": "code",
   "execution_count": 153,
   "metadata": {},
   "outputs": [],
   "source": [
    "import numpy as np\n",
    "\n",
    "class SVD:\n",
    "    def __init__(self, A):\n",
    "        self.u, self.s, self.vh = self.svd(A)\n",
    "\n",
    "    def gram_schmidt(self, A):\n",
    "        m, n = A.shape\n",
    "        Q = np.zeros((m, n))\n",
    "        R = np.zeros((n, n))\n",
    "\n",
    "        for j in range(n):\n",
    "            v = A[:, j]\n",
    "            for i in range(j):\n",
    "                R[i, j] = np.dot(Q[:, i], A[:, j])\n",
    "                v = v - R[i, j] * Q[:, i]\n",
    "            R[j, j] = np.linalg.norm(v, ord=2)\n",
    "            Q[:, j] = v / R[j, j]\n",
    "\n",
    "        return Q, R\n",
    "\n",
    "    def qr_eigen(self, A, max_iter=1000, tol=1e-6):\n",
    "        for _ in range(max_iter):\n",
    "            Q, R = self.gram_schmidt(A)\n",
    "            A = np.dot(R, Q)\n",
    "            \n",
    "            if np.linalg.norm(A - np.diag(np.diag(A)), ord=2) < tol:\n",
    "                break\n",
    "\n",
    "        return np.diag(A), Q\n",
    "\n",
    "    def svd(self, A):\n",
    "        m, n = A.shape\n",
    "        if(m < n):\n",
    "            A = A.T\n",
    "            m, n = A.shape\n",
    "\n",
    "        ATA = A.T.dot(A)\n",
    "        # eigenvals, V = self.eig(ATA)\n",
    "        eigenvals, V = np.linalg.eig(ATA)\n",
    "\n",
    "\n",
    "        idx = eigenvals.argsort()[::-1]\n",
    "        V = V[:, idx]\n",
    "\n",
    "        singularvals = np.sqrt(np.maximum(eigenvals[idx], 0))\n",
    "        S = np.zeros((m, n))\n",
    "        print(singularvals.shape)\n",
    "        S[:min(m, n), :min(m, n)] = np.diag(singularvals)\n",
    "\n",
    "        U = np.zeros((m, m))\n",
    "        for i in range(min(m, n)):\n",
    "            if singularvals[i] != 0:\n",
    "                U[:, i] = A.dot(V[:, i]) / singularvals[i]\n",
    "\n",
    "        if m >= n:\n",
    "            return U, S, V.T\n",
    "        else:\n",
    "            return V, S.T, U.T\n",
    "\n",
    "    def truncated_svd(self, A, k):\n",
    "        U, S, Vt = self.svd(A)\n",
    "\t\t\n",
    "        Uk = U[:, :k]\n",
    "        Sk = S[:k, :k]\n",
    "        Vtk = Vt[:k, :]\n",
    "\n",
    "        return Uk, Sk, Vtk\n",
    "\n",
    "    def return_matrices(self):\n",
    "        return self.u, self.s, self.vh\n",
    "\n",
    "    def return_trunc_matrices(self, A, k):\n",
    "        return self.truncated_svd(A, k)\n"
   ]
  },
  {
   "cell_type": "code",
   "execution_count": 154,
   "metadata": {},
   "outputs": [
    {
     "name": "stdout",
     "output_type": "stream",
     "text": [
      "(5,)\n",
      "(25, 25) (25, 5) (5, 5)\n",
      "True\n"
     ]
    }
   ],
   "source": [
    "SVD = SVD(X_comp)\n",
    "u, s, vh = SVD.return_matrices()\n",
    "print(u.shape, s.shape, vh.shape)\n",
    "print(np.allclose(X_comp, np.dot(u @ s, vh).T))"
   ]
  },
  {
   "cell_type": "code",
   "execution_count": 80,
   "metadata": {},
   "outputs": [
    {
     "data": {
      "text/plain": [
       "array([[0.8375    , 0.68035714, 0.90678571, 0.10535714, 0.83392857,\n",
       "        0.87142857, 0.83928571, 0.58571429, 0.65357143, 0.63571429,\n",
       "        0.58571429, 0.37857143, 0.525     , 0.51785714, 0.48214286,\n",
       "        0.35714286, 0.32142857, 0.30357143, 0.33928571, 0.26785714,\n",
       "        0.25178571, 0.42857143, 0.36428571, 0.25      , 0.5125    ],\n",
       "       [0.8525    , 0.465     , 0.185     , 0.09      , 0.87      ,\n",
       "        0.7625    , 0.59      , 0.5025    , 0.522     , 0.5795    ,\n",
       "        0.7075    , 0.3875    , 0.3975    , 0.61      , 0.56      ,\n",
       "        0.28      , 0.22      , 0.21      , 0.23      , 0.185     ,\n",
       "        0.275     , 0.31      , 0.345     , 0.275     , 0.39      ],\n",
       "       [0.85803483, 0.82705882, 0.82679932, 0.80430189, 0.86320408,\n",
       "        0.76621401, 0.75739093, 0.65724386, 0.54747851, 0.55812578,\n",
       "        0.59852941, 0.53196858, 0.61474387, 0.55882353, 0.59137538,\n",
       "        0.41647059, 0.42823529, 0.40794118, 0.42573529, 0.42205882,\n",
       "        0.47352941, 0.47252445, 0.50779412, 0.52720588, 0.49264706],\n",
       "       [0.686     , 0.876     , 0.208     , 0.824     , 0.756     ,\n",
       "        0.74      , 0.59      , 0.618     , 0.53      , 0.596     ,\n",
       "        0.644     , 0.4484    , 0.596     , 0.456     , 0.496     ,\n",
       "        0.388     , 0.448     , 0.416     , 0.396     , 0.368     ,\n",
       "        0.452     , 0.548     , 0.512     , 0.536     , 0.52      ],\n",
       "       [0.69047619, 0.16190476, 0.34285714, 0.79047619, 0.82857143,\n",
       "        0.6952381 , 0.54761905, 0.47142857, 0.42380952, 0.42380952,\n",
       "        0.58571429, 0.49761905, 0.4952381 , 0.46666667, 0.51428571,\n",
       "        0.38095238, 0.38095238, 0.39047619, 0.37619048, 0.38095238,\n",
       "        0.54761905, 0.57380952, 0.53333333, 0.55238095, 0.62857143]])"
      ]
     },
     "execution_count": 80,
     "metadata": {},
     "output_type": "execute_result"
    }
   ],
   "source": [
    "X_comp"
   ]
  },
  {
   "cell_type": "code",
   "execution_count": 77,
   "metadata": {},
   "outputs": [
    {
     "data": {
      "text/plain": [
       "array([-11.6177206 ,  -7.27408031, -10.85300483,  -1.89683497,\n",
       "       -11.46288214, -10.7311457 , -10.2527905 ,  -7.32018666,\n",
       "        -7.73118324,  -7.61496659,  -7.93594782,  -5.46183959,\n",
       "        -6.29417681,  -7.590366  ,  -7.10584858,  -4.42860086,\n",
       "        -3.66766485,  -3.54541712,  -4.07158974,  -3.45926335,\n",
       "        -3.73895811,  -4.7467616 ,  -4.76373478,  -3.606109  ,\n",
       "        -5.99747871])"
      ]
     },
     "execution_count": 77,
     "metadata": {},
     "output_type": "execute_result"
    }
   ],
   "source": [
    "np.dot(u @ s, vh)"
   ]
  },
  {
   "cell_type": "code",
   "execution_count": 65,
   "metadata": {},
   "outputs": [
    {
     "ename": "TypeError",
     "evalue": "return_trunc_matrices() missing 1 required positional argument: 'k'",
     "output_type": "error",
     "traceback": [
      "\u001b[0;31m---------------------------------------------------------------------------\u001b[0m",
      "\u001b[0;31mTypeError\u001b[0m                                 Traceback (most recent call last)",
      "\u001b[1;32m/mnt/d/code/Sem6/RS/final/RecSys/Analysis.ipynb Cell 11\u001b[0m in \u001b[0;36m<cell line: 1>\u001b[0;34m()\u001b[0m\n\u001b[0;32m----> <a href='vscode-notebook-cell://wsl%2Bubuntu-20.04/mnt/d/code/Sem6/RS/final/RecSys/Analysis.ipynb#X14sdnNjb2RlLXJlbW90ZQ%3D%3D?line=0'>1</a>\u001b[0m u, s, vh \u001b[39m=\u001b[39m SVD\u001b[39m.\u001b[39;49mreturn_trunc_matrices(X_comp, \u001b[39m10\u001b[39;49m)\n\u001b[1;32m      <a href='vscode-notebook-cell://wsl%2Bubuntu-20.04/mnt/d/code/Sem6/RS/final/RecSys/Analysis.ipynb#X14sdnNjb2RlLXJlbW90ZQ%3D%3D?line=1'>2</a>\u001b[0m \u001b[39mprint\u001b[39m(u\u001b[39m.\u001b[39mshape, s\u001b[39m.\u001b[39mshape, vh\u001b[39m.\u001b[39mshape)\n\u001b[1;32m      <a href='vscode-notebook-cell://wsl%2Bubuntu-20.04/mnt/d/code/Sem6/RS/final/RecSys/Analysis.ipynb#X14sdnNjb2RlLXJlbW90ZQ%3D%3D?line=2'>3</a>\u001b[0m \u001b[39mprint\u001b[39m(np\u001b[39m.\u001b[39mallclose(X_comp, np\u001b[39m.\u001b[39mdot(u \u001b[39m@\u001b[39m s, vh)))\n",
      "\u001b[0;31mTypeError\u001b[0m: return_trunc_matrices() missing 1 required positional argument: 'k'"
     ]
    }
   ],
   "source": [
    "u, s, vh = SVD.return_trunc_matrices(X_comp, 10)\n",
    "print(u.shape, s.shape, vh.shape)\n",
    "print(np.allclose(X_comp, np.dot(u @ s, vh)))"
   ]
  },
  {
   "cell_type": "code",
   "execution_count": 66,
   "metadata": {},
   "outputs": [
    {
     "data": {
      "text/plain": [
       "array([[ 1.00000000e+00,  1.00000000e+00,  1.00000000e+00, ...,\n",
       "         3.64285714e-01,  2.50000000e-01,  5.12500000e-01],\n",
       "       [ 8.00000000e-01,  9.00000000e-01,  9.00000000e-01, ...,\n",
       "         3.64285714e-01,  2.50000000e-01,  5.12500000e-01],\n",
       "       [ 1.00000000e+00,  6.00000000e-01,  8.00000000e-01, ...,\n",
       "         3.64285714e-01,  2.50000000e-01,  5.12500000e-01],\n",
       "       ...,\n",
       "       [ 7.00000000e-01,  1.00000000e-01,  8.00000000e-01, ...,\n",
       "         5.33333333e-01,  5.52380952e-01,  6.28571429e-01],\n",
       "       [ 1.00000000e+00,  8.58982043e-16, -1.75610868e-15, ...,\n",
       "         5.33333333e-01,  5.52380952e-01,  6.28571429e-01],\n",
       "       [ 6.00000000e-01,  3.00000000e-01,  4.00000000e-01, ...,\n",
       "         5.33333333e-01,  5.52380952e-01,  6.28571429e-01]])"
      ]
     },
     "execution_count": 66,
     "metadata": {},
     "output_type": "execute_result"
    }
   ],
   "source": [
    "np.dot(u @ s, vh)\n"
   ]
  },
  {
   "cell_type": "code",
   "execution_count": null,
   "metadata": {},
   "outputs": [],
   "source": []
  }
 ],
 "metadata": {
  "kernelspec": {
   "display_name": "Python 3",
   "language": "python",
   "name": "python3"
  },
  "language_info": {
   "codemirror_mode": {
    "name": "ipython",
    "version": 3
   },
   "file_extension": ".py",
   "mimetype": "text/x-python",
   "name": "python",
   "nbconvert_exporter": "python",
   "pygments_lexer": "ipython3",
   "version": "3.8.10"
  },
  "orig_nbformat": 4
 },
 "nbformat": 4,
 "nbformat_minor": 2
}
