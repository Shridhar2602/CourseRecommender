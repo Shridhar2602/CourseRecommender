{
 "cells": [
  {
   "cell_type": "code",
   "execution_count": 297,
   "metadata": {},
   "outputs": [],
   "source": [
    "import pandas as pd\n",
    "import numpy as np\n",
    "from sklearn.cluster import KMeans\n",
    "import matplotlib.pyplot as plt\n",
    "from sklearn.preprocessing import StandardScaler\n",
    "from kmeans import K_Means\n",
    "# from svd import SVD"
   ]
  },
  {
   "cell_type": "code",
   "execution_count": 298,
   "metadata": {},
   "outputs": [
    {
     "data": {
      "text/plain": [
       "['Data Structures and Algorithms',\n",
       " 'Computer Architecture\\n',\n",
       " 'Discrete Mathematics\\n',\n",
       " 'Economics',\n",
       " 'Programming-2']"
      ]
     },
     "execution_count": 298,
     "metadata": {},
     "output_type": "execute_result"
    }
   ],
   "source": [
    "data = pd.read_excel('data/Course Recommendation System(1-162).xlsx')\n",
    "data = data.drop(data.iloc[:, 0:6], axis=1) # Delete unnecessary columns\n",
    "data_core = data.iloc[:, :5]\n",
    "\n",
    "courses = list(data.columns)\n",
    "core_courses = list(data_core.columns)\n",
    "core_courses"
   ]
  },
  {
   "cell_type": "code",
   "execution_count": 299,
   "metadata": {},
   "outputs": [],
   "source": [
    "data = data.fillna(0.5)\n",
    "X = data.to_numpy()\n",
    "X_core = data_core.to_numpy()\n",
    "X_electives = X[:, 5:]"
   ]
  },
  {
   "attachments": {},
   "cell_type": "markdown",
   "metadata": {},
   "source": [
    "X_core contains our user vectors (ratings for each user in the core courses)"
   ]
  },
  {
   "cell_type": "code",
   "execution_count": 300,
   "metadata": {},
   "outputs": [],
   "source": [
    "# K-means on user vectors\n",
    "\n",
    "n_clusters = 5\n",
    "n_init = 10\n",
    "kmeans = K_Means(n_clusters, n_init)\n",
    "kmeans.fit(X_core, 100)\n",
    "kmeans.get_cluster_size()\n",
    "cluster_assignment = kmeans.c_assignment"
   ]
  },
  {
   "cell_type": "code",
   "execution_count": 301,
   "metadata": {},
   "outputs": [],
   "source": [
    "X_comp = np.zeros((1, 25))\n",
    "\n",
    "for i in range(0, n_clusters):\n",
    "    temp = X_core[np.where(cluster_assignment == i)]\n",
    "    mean = np.mean(X_electives[np.where(cluster_assignment == i)], axis=0)\n",
    "    mean_repeated = np.repeat(mean.reshape(1, -1), temp.shape[0], axis=0)\n",
    "    X_comp = np.vstack((X_comp, np.concatenate((temp, mean_repeated), axis=1)))\n",
    "    \n",
    "X_comp = X_comp[1:, :]"
   ]
  },
  {
   "cell_type": "code",
   "execution_count": 302,
   "metadata": {},
   "outputs": [],
   "source": [
    "# def QR_Decomposition(A):\n",
    "#     n, m = A.shape # get the shape of A\n",
    "\n",
    "#     Q = np.empty((n, n)) # initialize matrix Q\n",
    "#     u = np.empty((n, n)) # initialize matrix u\n",
    "\n",
    "#     u[:, 0] = A[:, 0]\n",
    "#     Q[:, 0] = u[:, 0] / np.linalg.norm(u[:, 0])\n",
    "\n",
    "#     for i in range(1, n):\n",
    "\n",
    "#         u[:, i] = A[:, i]\n",
    "#         for j in range(i):\n",
    "#             u[:, i] -= (A[:, i] @ Q[:, j]) * Q[:, j] # get each u vector\n",
    "\n",
    "#         Q[:, i] = u[:, i] / np.linalg.norm(u[:, i]) # compute each e vetor\n",
    "\n",
    "#     R = np.zeros((n, m))\n",
    "#     for i in range(n):\n",
    "#         for j in range(i, m):\n",
    "#             R[i, j] = A[:, j] @ Q[:, i]\n",
    "\n",
    "#     return Q, R\n",
    "\n",
    "\n",
    "# def svd_simultaneous_power_iteration(A, k, epsilon=0.00001):\n",
    "#     n_orig, m_orig = A.shape\n",
    "#     if k is None:\n",
    "#         k=min(n_orig,m_orig)\n",
    "#     A_orig=A.copy()\n",
    "#     if n_orig > m_orig:\n",
    "#         A = A.T @ A\n",
    "#         n, m = A.shape\n",
    "#     elif n_orig < m_orig:\n",
    "#         A = A @ A.T\n",
    "#         n, m = A.shape\n",
    "#     else:\n",
    "#         n,m=n_orig, m_orig\n",
    "        \n",
    "#     Q = np.random.rand(n, k)\n",
    "#     # Q, _ = np.linalg.qr(Q)\n",
    "#     Q, _ = QR_Decomposition(Q)\n",
    "#     Q_prev = Q\n",
    "#     #this part does the block power iteration\n",
    "#     for i in range(1000):\n",
    "#         Z = A @ Q\n",
    "#         # Q, R = np.linalg.qr(Z)\n",
    "#         Q, R = QR_Decomposition(Z)\n",
    "#         err = ((Q - Q_prev) ** 2).sum()\n",
    "#         Q_prev = Q\n",
    "#         if err < epsilon:\n",
    "#             break\n",
    "            \n",
    "#     singular_values=np.sqrt(np.diag(R))\n",
    "#     # print(singular_values)\n",
    "#     # singular_values = singular_values[:-5]\n",
    "#     # print(singular_values)\n",
    "#     #deal with different shape input matrices\n",
    "#     if n_orig < m_orig: \n",
    "#         left_vecs=Q.T\n",
    "#         # left_vecs = left_vecs[:, :-5]\n",
    "#         print(left_vecs.shape)\n",
    "#         #use property Values @ V = U.T@A => V=inv(Values)@U.T@A\n",
    "#         right_vecs=np.linalg.inv(np.diag(singular_values))@left_vecs.T@A_orig\n",
    "#     elif n_orig==m_orig:\n",
    "#         left_vecs=Q.T\n",
    "#         print(left_vecs.shape)\n",
    "#         right_vecs=left_vecs\n",
    "#         singular_values=np.square(singular_values)\n",
    "#     else:\n",
    "#         right_vecs=Q.T\n",
    "#         # right_vecs = right_vecs[:-5, :]\n",
    "#         print(right_vecs.shape)\n",
    "#         #use property Values @ V = U.T@A => U=A@V@inv(Values)\n",
    "#         left_vecs=A_orig@ right_vecs.T @np.linalg.inv(np.diag(singular_values))\n",
    "\n",
    "#     print(left_vecs.shape)\n",
    "#     print(singular_values.shape)\n",
    "#     print(right_vecs.shape)\n",
    "#     return left_vecs, singular_values, right_vecs"
   ]
  },
  {
   "cell_type": "code",
   "execution_count": 303,
   "metadata": {},
   "outputs": [],
   "source": [
    "import numpy as np\n",
    "\n",
    "class SVD:\n",
    "\tdef __init__(self, A):\n",
    "\t\tself.u, self.s, self.vh = self.svd(A)\n",
    "\n",
    "\tdef gram_schmidt(self, A):\n",
    "\t\tm, n = A.shape\n",
    "\t\tQ = np.zeros((m, n))\n",
    "\t\tR = np.zeros((n, n))\n",
    "\n",
    "\t\tfor j in range(n):\n",
    "\t\t\tv = A[:, j]\n",
    "\t\t\tfor i in range(j):\n",
    "\t\t\t\tR[i, j] = np.dot(Q[:, i], A[:, j])\n",
    "\t\t\t\tv = v - R[i, j] * Q[:, i]\n",
    "\t\t\tR[j, j] = np.linalg.norm(v)\n",
    "\t\t\tQ[:, j] = v / R[j, j]\n",
    "\n",
    "\t\treturn Q, R\n",
    "\n",
    "\tdef qr_eigen(self, A, max_iter=1000, tol=1e-6):\n",
    "\n",
    "\t\tfor _ in range(max_iter):\n",
    "\t\t\tQ, R = self.gram_schmidt(A)\n",
    "\t\t\tA = np.dot(R, Q)\n",
    "\n",
    "\t\t\tif np.amax(np.abs(A)) < tol:\n",
    "\t\t\t\tbreak\n",
    "\n",
    "\t\treturn np.diag(A), Q\n",
    "\n",
    "\tdef svd(self, A):\n",
    "\t\tm, n = A.shape\n",
    "\n",
    "\t\tATA = A.T.dot(A)\n",
    "\t\teigenvals, V = self.qr_eigen(ATA)\n",
    "\n",
    "\t\tprint(eigenvals)\n",
    "\t\teigenvals = np.array(eigenvals)\n",
    "\t\teigenvals[eigenvals<1e-10] = 0\n",
    "\t\tprint(eigenvals)\n",
    "\n",
    "\n",
    "\t\tidx = eigenvals.argsort()[::-1]\n",
    "\t\tV = V[:, idx]\n",
    "\n",
    "\t\tsingularvals = np.sqrt(eigenvals[idx])\n",
    "\t\tS = np.zeros((m, n))\n",
    "\t\tS[:min(m, n), :min(m, n)] = np.diag(singularvals)\n",
    "\n",
    "\t\tU = np.zeros((m, m))\n",
    "\t\tfor i in range(min(m, n)):\n",
    "\t\t\tif singularvals[i] != 0:\n",
    "\t\t\t\tU[:, i] = A.dot(V[:, i]) / singularvals[i]\n",
    "\n",
    "\t\tif m >= n:\n",
    "\t\t\treturn U, S, V.T\n",
    "\t\telse:\n",
    "\t\t\treturn V, S.T, U.T\n",
    "\n",
    "\tdef return_matrices(self):\n",
    "\t\treturn self.u, self.s, self.vh"
   ]
  },
  {
   "cell_type": "code",
   "execution_count": 309,
   "metadata": {},
   "outputs": [
    {
     "data": {
      "text/plain": [
       "array([[0.7       , 0.8       , 0.2       , ..., 0.512     , 0.536     ,\n",
       "        0.52      ],\n",
       "       [0.65      , 0.7       , 0.2       , ..., 0.512     , 0.536     ,\n",
       "        0.52      ],\n",
       "       [0.7       , 0.9       , 0.2       , ..., 0.512     , 0.536     ,\n",
       "        0.52      ],\n",
       "       ...,\n",
       "       [1.        , 1.        , 1.        , ..., 0.39230769, 0.26153846,\n",
       "        0.54807692],\n",
       "       [1.        , 0.5       , 0.7       , ..., 0.39230769, 0.26153846,\n",
       "        0.54807692],\n",
       "       [0.4       , 0.7       , 0.9       , ..., 0.39230769, 0.26153846,\n",
       "        0.54807692]])"
      ]
     },
     "execution_count": 309,
     "metadata": {},
     "output_type": "execute_result"
    }
   ],
   "source": [
    "X_comp"
   ]
  },
  {
   "cell_type": "code",
   "execution_count": 307,
   "metadata": {},
   "outputs": [
    {
     "data": {
      "text/plain": [
       "array([[0.7 , 0.8 , 0.2 , ..., 0.  , 0.  , 0.  ],\n",
       "       [0.65, 0.7 , 0.2 , ..., 0.  , 0.  , 0.  ],\n",
       "       [0.7 , 0.9 , 0.2 , ..., 0.  , 0.  , 0.  ],\n",
       "       ...,\n",
       "       [1.  , 1.  , 1.  , ..., 0.  , 0.  , 0.  ],\n",
       "       [1.  , 0.5 , 0.7 , ..., 0.  , 0.  , 0.  ],\n",
       "       [0.4 , 0.7 , 0.9 , ..., 0.  , 0.  , 0.  ]])"
      ]
     },
     "execution_count": 307,
     "metadata": {},
     "output_type": "execute_result"
    }
   ],
   "source": [
    "np.dot(u @ s, vh)"
   ]
  },
  {
   "cell_type": "code",
   "execution_count": 304,
   "metadata": {},
   "outputs": [
    {
     "name": "stdout",
     "output_type": "stream",
     "text": [
      "[ 1.28191925e+03  2.72937586e+01  1.93420740e+01  1.48098925e+01\n",
      "  9.05174324e+00  7.51828789e+00  1.71906073e+00  1.37387299e+00\n",
      "  5.43379816e-01  3.66541379e-01  1.41357031e-09 -1.17320587e-09\n",
      " -2.34540147e-10 -5.61933166e-12 -1.49754065e-12  6.38480475e-13\n",
      "  6.21372925e-13 -3.92918857e-13  2.94467497e-13  1.97959066e-13\n",
      " -1.72776929e-13 -1.41403880e-13  1.38025777e-13  8.15184362e-14\n",
      "  3.92287211e-14]\n",
      "[1.28191925e+03 2.72937586e+01 1.93420740e+01 1.48098925e+01\n",
      " 9.05174324e+00 7.51828789e+00 1.71906073e+00 1.37387299e+00\n",
      " 5.43379816e-01 3.66541379e-01 1.41357031e-09 0.00000000e+00\n",
      " 0.00000000e+00 0.00000000e+00 0.00000000e+00 0.00000000e+00\n",
      " 0.00000000e+00 0.00000000e+00 0.00000000e+00 0.00000000e+00\n",
      " 0.00000000e+00 0.00000000e+00 0.00000000e+00 0.00000000e+00\n",
      " 0.00000000e+00]\n",
      "(162, 162) (162, 25) (25, 25)\n",
      "False\n"
     ]
    }
   ],
   "source": [
    "SVD = SVD(X_comp)\n",
    "u, s, vh = SVD.return_matrices()\n",
    "print(u.shape, s.shape, vh.shape)\n",
    "print(np.allclose(X_comp, np.dot(u @ s, vh)))"
   ]
  },
  {
   "cell_type": "code",
   "execution_count": 305,
   "metadata": {},
   "outputs": [],
   "source": [
    "# u, s, vh = np.linalg.svd(X, full_matrices=False)\n",
    "# print(np.allclose(X, np.dot(u * s, vh)))"
   ]
  },
  {
   "cell_type": "code",
   "execution_count": 306,
   "metadata": {},
   "outputs": [],
   "source": [
    "# SVD = SVD(X)\n",
    "# u, s, vh = SVD.return_matrices()\n",
    "# print(u.shape, s.shape, vh.shape)\n",
    "# print(np.allclose(X, np.dot(u @ s, vh)))"
   ]
  },
  {
   "cell_type": "code",
   "execution_count": null,
   "metadata": {},
   "outputs": [],
   "source": []
  }
 ],
 "metadata": {
  "kernelspec": {
   "display_name": "Python 3",
   "language": "python",
   "name": "python3"
  },
  "language_info": {
   "codemirror_mode": {
    "name": "ipython",
    "version": 3
   },
   "file_extension": ".py",
   "mimetype": "text/x-python",
   "name": "python",
   "nbconvert_exporter": "python",
   "pygments_lexer": "ipython3",
   "version": "3.8.10"
  },
  "orig_nbformat": 4
 },
 "nbformat": 4,
 "nbformat_minor": 2
}
