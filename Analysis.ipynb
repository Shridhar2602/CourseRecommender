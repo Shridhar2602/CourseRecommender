{
 "cells": [
  {
   "cell_type": "code",
   "execution_count": 81,
   "metadata": {},
   "outputs": [],
   "source": [
    "import pandas as pd\n",
    "import numpy as np\n",
    "from sklearn.cluster import KMeans\n",
    "import matplotlib.pyplot as plt\n",
    "from sklearn.preprocessing import StandardScaler\n",
    "from kmeans import K_Means\n",
    "# from svd import SVD"
   ]
  },
  {
   "cell_type": "code",
   "execution_count": 82,
   "metadata": {},
   "outputs": [
    {
     "data": {
      "text/plain": [
       "['Data Structures and Algorithms',\n",
       " 'Computer Architecture\\n',\n",
       " 'Discrete Mathematics\\n',\n",
       " 'Economics',\n",
       " 'Programming-2']"
      ]
     },
     "execution_count": 82,
     "metadata": {},
     "output_type": "execute_result"
    }
   ],
   "source": [
    "data = pd.read_excel('data/Course Recommendation System(1-162).xlsx')\n",
    "data = data.drop(data.iloc[:, 0:6], axis=1) # Delete unnecessary columns\n",
    "data_core = data.iloc[:, :5]\n",
    "\n",
    "courses = list(data.columns)\n",
    "core_courses = list(data_core.columns)\n",
    "core_courses"
   ]
  },
  {
   "cell_type": "code",
   "execution_count": 83,
   "metadata": {},
   "outputs": [],
   "source": [
    "data = data.fillna(0.5)\n",
    "X = data.to_numpy()\n",
    "X_core = data_core.to_numpy()\n",
    "X_electives = X[:, 5:]"
   ]
  },
  {
   "attachments": {},
   "cell_type": "markdown",
   "metadata": {},
   "source": [
    "X_core contains our user vectors (ratings for each user in the core courses)"
   ]
  },
  {
   "cell_type": "code",
   "execution_count": 84,
   "metadata": {},
   "outputs": [],
   "source": [
    "# K-means on user vectors\n",
    "\n",
    "n_clusters = 5\n",
    "n_init = 10\n",
    "kmeans = K_Means(n_clusters, n_init)\n",
    "kmeans.fit(X_core, 100)\n",
    "kmeans.get_cluster_size()\n",
    "cluster_assignment = kmeans.c_assignment"
   ]
  },
  {
   "cell_type": "code",
   "execution_count": 85,
   "metadata": {},
   "outputs": [],
   "source": [
    "X_comp = np.zeros((1, 25))\n",
    "\n",
    "for i in range(0, n_clusters):\n",
    "    temp = X_core[np.where(cluster_assignment == i)]\n",
    "    mean = np.mean(X_electives[np.where(cluster_assignment == i)], axis=0)\n",
    "    mean_repeated = np.repeat(mean.reshape(1, -1), temp.shape[0], axis=0)\n",
    "    X_comp = np.vstack((X_comp, np.concatenate((temp, mean_repeated), axis=1)))\n",
    "    \n",
    "X_comp = X_comp[1:, :]"
   ]
  },
  {
   "cell_type": "code",
   "execution_count": 86,
   "metadata": {},
   "outputs": [],
   "source": [
    "# def QR_Decomposition(A):\n",
    "#     n, m = A.shape # get the shape of A\n",
    "\n",
    "#     Q = np.empty((n, n)) # initialize matrix Q\n",
    "#     u = np.empty((n, n)) # initialize matrix u\n",
    "\n",
    "#     u[:, 0] = A[:, 0]\n",
    "#     Q[:, 0] = u[:, 0] / np.linalg.norm(u[:, 0])\n",
    "\n",
    "#     for i in range(1, n):\n",
    "\n",
    "#         u[:, i] = A[:, i]\n",
    "#         for j in range(i):\n",
    "#             u[:, i] -= (A[:, i] @ Q[:, j]) * Q[:, j] # get each u vector\n",
    "\n",
    "#         Q[:, i] = u[:, i] / np.linalg.norm(u[:, i]) # compute each e vetor\n",
    "\n",
    "#     R = np.zeros((n, m))\n",
    "#     for i in range(n):\n",
    "#         for j in range(i, m):\n",
    "#             R[i, j] = A[:, j] @ Q[:, i]\n",
    "\n",
    "#     return Q, R\n",
    "\n",
    "\n",
    "# def svd_simultaneous_power_iteration(A, k, epsilon=0.00001):\n",
    "#     n_orig, m_orig = A.shape\n",
    "#     if k is None:\n",
    "#         k=min(n_orig,m_orig)\n",
    "#     A_orig=A.copy()\n",
    "#     if n_orig > m_orig:\n",
    "#         A = A.T @ A\n",
    "#         n, m = A.shape\n",
    "#     elif n_orig < m_orig:\n",
    "#         A = A @ A.T\n",
    "#         n, m = A.shape\n",
    "#     else:\n",
    "#         n,m=n_orig, m_orig\n",
    "        \n",
    "#     Q = np.random.rand(n, k)\n",
    "#     # Q, _ = np.linalg.qr(Q)\n",
    "#     Q, _ = QR_Decomposition(Q)\n",
    "#     Q_prev = Q\n",
    "#     #this part does the block power iteration\n",
    "#     for i in range(1000):\n",
    "#         Z = A @ Q\n",
    "#         # Q, R = np.linalg.qr(Z)\n",
    "#         Q, R = QR_Decomposition(Z)\n",
    "#         err = ((Q - Q_prev) ** 2).sum()\n",
    "#         Q_prev = Q\n",
    "#         if err < epsilon:\n",
    "#             break\n",
    "            \n",
    "#     singular_values=np.sqrt(np.diag(R))\n",
    "#     # print(singular_values)\n",
    "#     # singular_values = singular_values[:-5]\n",
    "#     # print(singular_values)\n",
    "#     #deal with different shape input matrices\n",
    "#     if n_orig < m_orig: \n",
    "#         left_vecs=Q.T\n",
    "#         # left_vecs = left_vecs[:, :-5]\n",
    "#         print(left_vecs.shape)\n",
    "#         #use property Values @ V = U.T@A => V=inv(Values)@U.T@A\n",
    "#         right_vecs=np.linalg.inv(np.diag(singular_values))@left_vecs.T@A_orig\n",
    "#     elif n_orig==m_orig:\n",
    "#         left_vecs=Q.T\n",
    "#         print(left_vecs.shape)\n",
    "#         right_vecs=left_vecs\n",
    "#         singular_values=np.square(singular_values)\n",
    "#     else:\n",
    "#         right_vecs=Q.T\n",
    "#         # right_vecs = right_vecs[:-5, :]\n",
    "#         print(right_vecs.shape)\n",
    "#         #use property Values @ V = U.T@A => U=A@V@inv(Values)\n",
    "#         left_vecs=A_orig@ right_vecs.T @np.linalg.inv(np.diag(singular_values))\n",
    "\n",
    "#     print(left_vecs.shape)\n",
    "#     print(singular_values.shape)\n",
    "#     print(right_vecs.shape)\n",
    "#     return left_vecs, singular_values, right_vecs"
   ]
  },
  {
   "cell_type": "code",
   "execution_count": 202,
   "metadata": {},
   "outputs": [],
   "source": [
    "import numpy as np\n",
    "\n",
    "class SVD:\n",
    "    def __init__(self, A):\n",
    "        self.u, self.s, self.vh = self.svd(A)\n",
    "\n",
    "    def gram_schmidt(self, A):\n",
    "        m, n = A.shape\n",
    "        Q = np.zeros((m, n))\n",
    "        R = np.zeros((n, n))\n",
    "\n",
    "        for j in range(n):\n",
    "            v = A[:, j]\n",
    "            for i in range(j):\n",
    "                R[i, j] = np.dot(Q[:, i], A[:, j])\n",
    "                v = v - R[i, j] * Q[:, i]\n",
    "            R[j, j] = np.linalg.norm(v, ord=2)\n",
    "            Q[:, j] = v / R[j, j]\n",
    "\n",
    "        return Q, R\n",
    "\n",
    "    def qr_eigen(self, A, max_iter=1000, tol=1e-6):\n",
    "        for _ in range(max_iter):\n",
    "            Q, R = self.gram_schmidt(A)\n",
    "            A = np.dot(R, Q)\n",
    "            \n",
    "            if np.linalg.norm(A - np.diag(np.diag(A)), ord=2) < tol:\n",
    "                break\n",
    "\n",
    "        return np.diag(A), Q\n",
    "\n",
    "    def svd(self, A):\n",
    "        m, n = A.shape\n",
    "\n",
    "        ATA = A.T.dot(A)\n",
    "        # eigenvals, V = self.eig(ATA)\n",
    "        eigenvals, V = np.linalg.eig(ATA)\n",
    "\n",
    "\n",
    "        idx = eigenvals.argsort()[::-1]\n",
    "        V = V[:, idx]\n",
    "\n",
    "        singularvals = np.sqrt(np.maximum(eigenvals[idx], 0))\n",
    "        S = np.zeros((m, n))\n",
    "        S[:min(m, n), :min(m, n)] = np.diag(singularvals)\n",
    "\n",
    "        U = np.zeros((m, m))\n",
    "        for i in range(min(m, n)):\n",
    "            if singularvals[i] != 0:\n",
    "                U[:, i] = A.dot(V[:, i]) / singularvals[i]\n",
    "\n",
    "        if m >= n:\n",
    "            return U, S, V.T\n",
    "        else:\n",
    "            return V, S.T, U.T\n",
    "\n",
    "    def truncated_svd(self, A, k):\n",
    "        U, S, Vt = self.svd(A)\n",
    "\t\t\n",
    "        Uk = U[:, :k]\n",
    "        Sk = S[:k, :k]\n",
    "        Vtk = Vt[:k, :]\n",
    "\n",
    "        return Uk, Sk, Vtk\n",
    "\n",
    "    def return_matrices(self):\n",
    "        return self.u, self.s, self.vh\n",
    "\n",
    "    def return_trunc_matrices(self, A, k):\n",
    "        return self.truncated_svd(A, k)\n"
   ]
  },
  {
   "cell_type": "code",
   "execution_count": 203,
   "metadata": {},
   "outputs": [
    {
     "data": {
      "text/plain": [
       "array([[0.7       , 0.8       , 0.2       , ..., 0.49259259, 0.4962963 ,\n",
       "        0.48888889],\n",
       "       [0.65      , 0.7       , 0.2       , ..., 0.49259259, 0.4962963 ,\n",
       "        0.48888889],\n",
       "       [0.7       , 0.9       , 0.2       , ..., 0.49259259, 0.4962963 ,\n",
       "        0.48888889],\n",
       "       ...,\n",
       "       [1.        , 1.        , 1.        , ..., 0.40115385, 0.30961538,\n",
       "        0.52307692],\n",
       "       [1.        , 0.7       , 1.        , ..., 0.40115385, 0.30961538,\n",
       "        0.52307692],\n",
       "       [1.        , 0.5       , 0.7       , ..., 0.40115385, 0.30961538,\n",
       "        0.52307692]])"
      ]
     },
     "execution_count": 203,
     "metadata": {},
     "output_type": "execute_result"
    }
   ],
   "source": [
    "X_comp"
   ]
  },
  {
   "cell_type": "code",
   "execution_count": 204,
   "metadata": {},
   "outputs": [
    {
     "name": "stdout",
     "output_type": "stream",
     "text": [
      "(162, 162) (162, 25) (25, 25)\n",
      "True\n"
     ]
    }
   ],
   "source": [
    "SVD = SVD(X_comp)\n",
    "u, s, vh = SVD.return_matrices()\n",
    "print(u.shape, s.shape, vh.shape)\n",
    "print(np.allclose(X_comp, np.dot(u @ s, vh)))"
   ]
  },
  {
   "cell_type": "code",
   "execution_count": 205,
   "metadata": {},
   "outputs": [
    {
     "data": {
      "text/plain": [
       "array([[0.7       , 0.8       , 0.2       , ..., 0.49259259, 0.4962963 ,\n",
       "        0.48888889],\n",
       "       [0.65      , 0.7       , 0.2       , ..., 0.49259259, 0.4962963 ,\n",
       "        0.48888889],\n",
       "       [0.7       , 0.9       , 0.2       , ..., 0.49259259, 0.4962963 ,\n",
       "        0.48888889],\n",
       "       ...,\n",
       "       [1.        , 1.        , 1.        , ..., 0.40115385, 0.30961538,\n",
       "        0.52307692],\n",
       "       [1.        , 0.7       , 1.        , ..., 0.40115385, 0.30961538,\n",
       "        0.52307692],\n",
       "       [1.        , 0.5       , 0.7       , ..., 0.40115385, 0.30961538,\n",
       "        0.52307692]])"
      ]
     },
     "execution_count": 205,
     "metadata": {},
     "output_type": "execute_result"
    }
   ],
   "source": [
    "np.dot(u @ s, vh)"
   ]
  },
  {
   "cell_type": "code",
   "execution_count": 206,
   "metadata": {},
   "outputs": [
    {
     "name": "stdout",
     "output_type": "stream",
     "text": [
      "(162, 10) (10, 10) (10, 25)\n",
      "True\n"
     ]
    }
   ],
   "source": [
    "u, s, vh = SVD.return_trunc_matrices(X_comp, 10)\n",
    "print(u.shape, s.shape, vh.shape)\n",
    "print(np.allclose(X_comp, np.dot(u @ s, vh)))"
   ]
  },
  {
   "cell_type": "code",
   "execution_count": 207,
   "metadata": {},
   "outputs": [
    {
     "data": {
      "text/plain": [
       "array([[0.7       , 0.8       , 0.2       , ..., 0.49259259, 0.4962963 ,\n",
       "        0.48888889],\n",
       "       [0.65      , 0.7       , 0.2       , ..., 0.49259259, 0.4962963 ,\n",
       "        0.48888889],\n",
       "       [0.7       , 0.9       , 0.2       , ..., 0.49259259, 0.4962963 ,\n",
       "        0.48888889],\n",
       "       ...,\n",
       "       [1.        , 1.        , 1.        , ..., 0.40115385, 0.30961538,\n",
       "        0.52307692],\n",
       "       [1.        , 0.7       , 1.        , ..., 0.40115385, 0.30961538,\n",
       "        0.52307692],\n",
       "       [1.        , 0.5       , 0.7       , ..., 0.40115385, 0.30961538,\n",
       "        0.52307692]])"
      ]
     },
     "execution_count": 207,
     "metadata": {},
     "output_type": "execute_result"
    }
   ],
   "source": [
    "np.dot(u @ s, vh)"
   ]
  },
  {
   "cell_type": "code",
   "execution_count": null,
   "metadata": {},
   "outputs": [],
   "source": []
  }
 ],
 "metadata": {
  "kernelspec": {
   "display_name": "Python 3",
   "language": "python",
   "name": "python3"
  },
  "language_info": {
   "codemirror_mode": {
    "name": "ipython",
    "version": 3
   },
   "file_extension": ".py",
   "mimetype": "text/x-python",
   "name": "python",
   "nbconvert_exporter": "python",
   "pygments_lexer": "ipython3",
   "version": "3.8.10"
  },
  "orig_nbformat": 4
 },
 "nbformat": 4,
 "nbformat_minor": 2
}
