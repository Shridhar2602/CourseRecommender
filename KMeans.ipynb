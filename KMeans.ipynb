{
 "cells": [
  {
   "cell_type": "code",
   "execution_count": 3,
   "metadata": {},
   "outputs": [],
   "source": [
    "import pandas as pd\n",
    "import numpy as np\n",
    "from matplotlib import pyplot as plt"
   ]
  },
  {
   "cell_type": "code",
   "execution_count": 4,
   "metadata": {},
   "outputs": [
    {
     "data": {
      "text/plain": [
       "array([1. , 1. , 1. , 1. , 1. , 0.5, 0.5, 0.5, 0.5, 0.5, 0.5, 0.5, 0.5,\n",
       "       0.5, 0.5, 0.5, 0.5, 0.5, 0.5, 0.5, 0.5, 0.5, 0.5, 0.5, 0.5])"
      ]
     },
     "execution_count": 4,
     "metadata": {},
     "output_type": "execute_result"
    }
   ],
   "source": [
    "df = pd.read_excel(\"./data/Course Recommendation System(1-128).xlsx\")\n",
    "df.drop(df.columns[[0, 1, 2, 3, 4, 5]], axis=1, inplace=True)\n",
    "df = df.fillna(0.5)\n",
    "\n",
    "# df = df.dropna()\n",
    "A = df.to_numpy()\n",
    "A[45]"
   ]
  },
  {
   "cell_type": "code",
   "execution_count": 5,
   "metadata": {},
   "outputs": [
    {
     "data": {
      "text/plain": [
       "array([1. , 1. , 1. , 1. , 1. , 0.5, 0.5, 0.5, 0.5, 0.5, 0.5, 0.5, 0.5,\n",
       "       0.5, 0.5, 0.5, 0.5, 0.5, 0.5, 0.5, 0.5, 0.5, 0.5, 0.5, 0.5])"
      ]
     },
     "execution_count": 5,
     "metadata": {},
     "output_type": "execute_result"
    }
   ],
   "source": [
    "u, s, vh = np.linalg.svd(A, full_matrices=False)\n",
    "A = u @ np.diag(s) @ vh\n",
    "A[45]"
   ]
  },
  {
   "attachments": {},
   "cell_type": "markdown",
   "metadata": {},
   "source": [
    "### K-Means"
   ]
  },
  {
   "cell_type": "code",
   "execution_count": 6,
   "metadata": {},
   "outputs": [],
   "source": [
    "class K_Means():\n",
    "\n",
    "\tdef __init__(self, n_clusters, n_init) -> None:\n",
    "\t\tself.n_clusters = n_clusters\n",
    "\t\tself.n_init = n_init\n",
    "\n",
    "\tdef fit(self, X, n_iter):\n",
    "\t\tself.clusters = self._get_clusters(X)\n",
    "\t\tself.c_assignment = []\n",
    "\t\tself.inertia = np.Inf\n",
    "\n",
    "\t\t# print(\"Cluster Size \\t\\t\\t\\t Inertia\")\n",
    "\t\tfor _ in range(self.n_init):\n",
    "\t\t\tclusters = self._get_clusters(X)\n",
    "\t\t\tc_assignment = self._assign_cluster(clusters, X)\n",
    "\n",
    "\t\t\tfor _ in range(n_iter):\n",
    "\t\t\t\tclusters = self._new_clusters(c_assignment, X)\n",
    "\t\t\t\tc_assignment = self._assign_cluster(clusters, X)\n",
    "\n",
    "\t\t\tnew_inertia = self.calc_inertia(c_assignment, clusters, X)\n",
    "\t\t\t# print(np.unique(c_assignment, return_counts=True)[1], \"\\t\\t\\t\\t\", new_inertia)\n",
    "\n",
    "\t\t\tif(new_inertia < self.inertia):\n",
    "\t\t\t\tself.clusters = clusters\n",
    "\t\t\t\tself.c_assignment = c_assignment\n",
    "\t\t\t\tself.inertia = new_inertia\n",
    "\n",
    "\t\t# print(\"\\nFinal Result -\\n\", np.unique(self.c_assignment, return_counts=True)[1], \"\\t\\t\\t\\t\", self.calc_inertia(self.c_assignment, self.clusters, X))\n",
    "\n",
    "\tdef _assign_cluster(self, clusters, X):\n",
    "\n",
    "\t\tcluster_assignment = np.ones(X.shape[0], dtype=np.int8)\n",
    "\t\tfor ind, i in enumerate(X):\n",
    "\t\t\tcluster_assignment[ind] = self.find_cluster(clusters, i)\n",
    "\n",
    "\t\treturn cluster_assignment\n",
    "\n",
    "\tdef find_cluster(self, clusters, x):\n",
    "\t\t\n",
    "\t\tdist = []\n",
    "\t\tfor j in clusters:\n",
    "\t\t\tdist.append(np.linalg.norm(x - j))\n",
    "\n",
    "\t\treturn dist.index(min(dist))\n",
    "\n",
    "\tdef _new_clusters(self, cluster_assignment, X):\n",
    "\n",
    "\t\tclusters = []\n",
    "\t\tfor i in range(self.n_clusters):\n",
    "\t\t\ttemp = X[np.where(cluster_assignment == i)]\n",
    "\t\t\t\n",
    "\t\t\tif(temp.shape[0] == 0):\n",
    "\t\t\t\ttemp = X[np.random.randint(0, X.shape[0], 1)[0]].reshape([1, -1])\n",
    "\t\t\n",
    "\t\t\tclusters.append(np.mean(temp, axis=0))\n",
    "\n",
    "\t\treturn clusters\n",
    "\n",
    "\tdef get_cluster_size(self):\n",
    "\t\treturn np.unique(self.c_assignment, return_counts=True)[1]\n",
    "\n",
    "\n",
    "\tdef calc_inertia(self, c_assignment, clusters, X):\n",
    "\t\tinertia = 0;\n",
    "\t\tfor ind, i in enumerate(X):\n",
    "\t\t\tinertia += np.linalg.norm(clusters[c_assignment[ind]] - i)**2\n",
    "\n",
    "\t\treturn inertia\n",
    "\n",
    "\tdef _get_clusters(self, X):\n",
    "\t\treturn X[np.random.randint(0, X.shape[0], self.n_clusters), :]"
   ]
  },
  {
   "cell_type": "code",
   "execution_count": 7,
   "metadata": {},
   "outputs": [
    {
     "data": {
      "text/plain": [
       "array([86, 42])"
      ]
     },
     "execution_count": 7,
     "metadata": {},
     "output_type": "execute_result"
    }
   ],
   "source": [
    "n_clusters = 2\n",
    "n_init = 10\n",
    "kmeans = K_Means(n_clusters, n_init)\n",
    "kmeans.fit(A, 100)\n",
    "kmeans.get_cluster_size()"
   ]
  },
  {
   "cell_type": "code",
   "execution_count": 8,
   "metadata": {},
   "outputs": [
    {
     "data": {
      "text/plain": [
       "array([43, 85])"
      ]
     },
     "execution_count": 8,
     "metadata": {},
     "output_type": "execute_result"
    }
   ],
   "source": [
    "from sklearn.cluster import KMeans\n",
    "kmean = KMeans(n_clusters=2).fit(A)\n",
    "\n",
    "np.unique(kmean.labels_, return_counts=True)[1]"
   ]
  },
  {
   "attachments": {},
   "cell_type": "markdown",
   "metadata": {},
   "source": [
    "#### Optimal K (Using Elbow Method)"
   ]
  },
  {
   "cell_type": "code",
   "execution_count": 9,
   "metadata": {},
   "outputs": [
    {
     "data": {
      "image/png": "[encoded data removed]",
      "text/plain": [
       "<Figure size 432x288 with 1 Axes>"
      ]
     },
     "metadata": {
      "needs_background": "light"
     },
     "output_type": "display_data"
    }
   ],
   "source": [
    "Inertia = []\n",
    "\n",
    "for i in range(2, 10):\n",
    "\tkmeans = K_Means(i, 10)\n",
    "\tkmeans.fit(A, 100)\n",
    "\tInertia.append(kmeans.inertia)\n",
    "\n",
    "plt.plot(range(2, 10), Inertia)\n",
    "plt.xticks(range(2, 10))\n",
    "plt.title('The Elbow Method')\n",
    "plt.xlabel('Number of clusters')\n",
    "plt.ylabel('Inertia / Distortion')\n",
    "plt.show()"
   ]
  },
  {
   "attachments": {},
   "cell_type": "markdown",
   "metadata": {},
   "source": [
    "#### Inference - KMeans"
   ]
  },
  {
   "cell_type": "code",
   "execution_count": null,
   "metadata": {},
   "outputs": [],
   "source": []
  }
 ],
 "metadata": {
  "kernelspec": {
   "display_name": "Python 3",
   "language": "python",
   "name": "python3"
  },
  "language_info": {
   "codemirror_mode": {
    "name": "ipython",
    "version": 3
   },
   "file_extension": ".py",
   "mimetype": "text/x-python",
   "name": "python",
   "nbconvert_exporter": "python",
   "pygments_lexer": "ipython3",
   "version": "3.8.10"
  },
  "orig_nbformat": 4,
  "vscode": {
   "interpreter": {
    "hash": "916dbcbb3f70747c44a77c7bcd40155683ae19c65e1c03b4aa3499c5328201f1"
   }
  }
 },
 "nbformat": 4,
 "nbformat_minor": 2
}
